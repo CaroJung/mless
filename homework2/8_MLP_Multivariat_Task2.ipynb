{
  "cells": [
    {
      "cell_type": "markdown",
      "id": "9040d5e5",
      "metadata": {
        "id": "9040d5e5"
      },
      "source": [
        "<a href=\"https://colab.research.google.com/github/maschu09/mless/blob/main/time_series_forecasting/4_MLP.ipynb\" target=\"_parent\"><img src=\"https://colab.research.google.com/assets/colab-badge.svg\" alt=\"Open In Colab\"/></a>"
      ]
    },
    {
      "cell_type": "markdown",
      "source": [
        "*#author: Caroline Jungheim*"
      ],
      "metadata": {
        "id": "ZCJBqKordL8C"
      },
      "id": "ZCJBqKordL8C"
    },
    {
      "cell_type": "code",
      "execution_count": 1,
      "id": "9f8684a8",
      "metadata": {
        "id": "9f8684a8"
      },
      "outputs": [],
      "source": [
        "import pandas as pd\n",
        "import numpy as np\n",
        "import matplotlib.pyplot as plt\n",
        "from statsmodels.tsa.arima.model import ARIMA\n",
        "from tensorflow.keras.models import Sequential,load_model\n",
        "from tensorflow.keras.layers import Dense, LSTM, Input\n",
        "from tensorflow.keras.callbacks import ModelCheckpoint\n",
        "from tensorflow.keras.losses import MeanSquaredError\n",
        "from sklearn.preprocessing import StandardScaler\n",
        "from sklearn.metrics import mean_squared_error\n",
        "import tensorflow as tf\n",
        "import os\n",
        "\n",
        "context_window = 336\n",
        "prediction_horizon = 96\n",
        "\n",
        "#🦋 Add both variables temperature and ozone data\n",
        "variable_column = [\"temp\", \"o3\"]\n",
        "#🦋 Specify target variable\n",
        "target_variable = [\"o3\"]"
      ]
    },
    {
      "cell_type": "code",
      "execution_count": 2,
      "id": "d783afb2",
      "metadata": {
        "id": "d783afb2"
      },
      "outputs": [],
      "source": [
        "# Function to evaluate model performance\n",
        "def evaluate_model(y_true, y_pred):\n",
        "    mse = mean_squared_error(y_true, y_pred)\n",
        "    rmse = np.sqrt(mse)\n",
        "    print(f\"RMSE: {rmse:.4f}\")\n",
        "    return rmse"
      ]
    },
    {
      "cell_type": "markdown",
      "id": "oHVmTJo-yF3z",
      "metadata": {
        "id": "oHVmTJo-yF3z"
      },
      "source": [
        "## Download the .pkl files from drive"
      ]
    },
    {
      "cell_type": "code",
      "source": [
        "#🦋 Get Google Drive Path\n",
        "from google.colab import drive\n",
        "drive.mount('/content/drive')\n",
        "BASEPATH = '/content/drive/MyDrive'\n"
      ],
      "metadata": {
        "id": "Lpxg__-MQJZI",
        "outputId": "4a012164-b9c2-41e6-ae45-88cd96d6a79b",
        "colab": {
          "base_uri": "https://localhost:8080/"
        }
      },
      "id": "Lpxg__-MQJZI",
      "execution_count": 3,
      "outputs": [
        {
          "output_type": "stream",
          "name": "stdout",
          "text": [
            "Mounted at /content/drive\n"
          ]
        }
      ]
    },
    {
      "cell_type": "code",
      "source": [
        "#🦋 Get data from saved csv\n",
        "dataframe = pd.read_csv(os.path.join(BASEPATH + \"/content/timeseries_data\", \"normalized_data.csv\"))\n",
        "\n",
        "dataframe.head()"
      ],
      "metadata": {
        "colab": {
          "base_uri": "https://localhost:8080/",
          "height": 206
        },
        "id": "U3guznrFzfS0",
        "outputId": "045571ef-83cf-42f0-ede3-1d0f2d97d7e4"
      },
      "id": "U3guznrFzfS0",
      "execution_count": 4,
      "outputs": [
        {
          "output_type": "execute_result",
          "data": {
            "text/plain": [
              "   longitude   latitude station_code                   datetime        o3  \\\n",
              "0   6.093923  50.754704      DENW094  1997-01-01 00:00:00+00:00 -1.686509   \n",
              "1   6.093923  50.754704      DENW094  1997-01-01 01:00:00+00:00 -1.686509   \n",
              "2   6.093923  50.754704      DENW094  1997-01-01 02:00:00+00:00 -1.686509   \n",
              "3   6.093923  50.754704      DENW094  1997-01-01 03:00:00+00:00 -1.686509   \n",
              "4   6.093923  50.754704      DENW094  1997-01-01 04:00:00+00:00 -1.686509   \n",
              "\n",
              "        no2        no      temp       press  \n",
              "0 -2.140763 -0.758096 -3.566220 -337.675195  \n",
              "1 -2.140763 -0.758096 -3.633418 -337.675195  \n",
              "2 -2.140763 -0.758096 -3.646857 -337.675195  \n",
              "3 -2.140763 -0.758096 -3.740934 -337.675195  \n",
              "4 -2.140763 -0.758096 -3.767813 -337.675195  "
            ],
            "text/html": [
              "\n",
              "  <div id=\"df-5aad2934-ed35-495b-a20d-faacc26dc1b6\" class=\"colab-df-container\">\n",
              "    <div>\n",
              "<style scoped>\n",
              "    .dataframe tbody tr th:only-of-type {\n",
              "        vertical-align: middle;\n",
              "    }\n",
              "\n",
              "    .dataframe tbody tr th {\n",
              "        vertical-align: top;\n",
              "    }\n",
              "\n",
              "    .dataframe thead th {\n",
              "        text-align: right;\n",
              "    }\n",
              "</style>\n",
              "<table border=\"1\" class=\"dataframe\">\n",
              "  <thead>\n",
              "    <tr style=\"text-align: right;\">\n",
              "      <th></th>\n",
              "      <th>longitude</th>\n",
              "      <th>latitude</th>\n",
              "      <th>station_code</th>\n",
              "      <th>datetime</th>\n",
              "      <th>o3</th>\n",
              "      <th>no2</th>\n",
              "      <th>no</th>\n",
              "      <th>temp</th>\n",
              "      <th>press</th>\n",
              "    </tr>\n",
              "  </thead>\n",
              "  <tbody>\n",
              "    <tr>\n",
              "      <th>0</th>\n",
              "      <td>6.093923</td>\n",
              "      <td>50.754704</td>\n",
              "      <td>DENW094</td>\n",
              "      <td>1997-01-01 00:00:00+00:00</td>\n",
              "      <td>-1.686509</td>\n",
              "      <td>-2.140763</td>\n",
              "      <td>-0.758096</td>\n",
              "      <td>-3.566220</td>\n",
              "      <td>-337.675195</td>\n",
              "    </tr>\n",
              "    <tr>\n",
              "      <th>1</th>\n",
              "      <td>6.093923</td>\n",
              "      <td>50.754704</td>\n",
              "      <td>DENW094</td>\n",
              "      <td>1997-01-01 01:00:00+00:00</td>\n",
              "      <td>-1.686509</td>\n",
              "      <td>-2.140763</td>\n",
              "      <td>-0.758096</td>\n",
              "      <td>-3.633418</td>\n",
              "      <td>-337.675195</td>\n",
              "    </tr>\n",
              "    <tr>\n",
              "      <th>2</th>\n",
              "      <td>6.093923</td>\n",
              "      <td>50.754704</td>\n",
              "      <td>DENW094</td>\n",
              "      <td>1997-01-01 02:00:00+00:00</td>\n",
              "      <td>-1.686509</td>\n",
              "      <td>-2.140763</td>\n",
              "      <td>-0.758096</td>\n",
              "      <td>-3.646857</td>\n",
              "      <td>-337.675195</td>\n",
              "    </tr>\n",
              "    <tr>\n",
              "      <th>3</th>\n",
              "      <td>6.093923</td>\n",
              "      <td>50.754704</td>\n",
              "      <td>DENW094</td>\n",
              "      <td>1997-01-01 03:00:00+00:00</td>\n",
              "      <td>-1.686509</td>\n",
              "      <td>-2.140763</td>\n",
              "      <td>-0.758096</td>\n",
              "      <td>-3.740934</td>\n",
              "      <td>-337.675195</td>\n",
              "    </tr>\n",
              "    <tr>\n",
              "      <th>4</th>\n",
              "      <td>6.093923</td>\n",
              "      <td>50.754704</td>\n",
              "      <td>DENW094</td>\n",
              "      <td>1997-01-01 04:00:00+00:00</td>\n",
              "      <td>-1.686509</td>\n",
              "      <td>-2.140763</td>\n",
              "      <td>-0.758096</td>\n",
              "      <td>-3.767813</td>\n",
              "      <td>-337.675195</td>\n",
              "    </tr>\n",
              "  </tbody>\n",
              "</table>\n",
              "</div>\n",
              "    <div class=\"colab-df-buttons\">\n",
              "\n",
              "  <div class=\"colab-df-container\">\n",
              "    <button class=\"colab-df-convert\" onclick=\"convertToInteractive('df-5aad2934-ed35-495b-a20d-faacc26dc1b6')\"\n",
              "            title=\"Convert this dataframe to an interactive table.\"\n",
              "            style=\"display:none;\">\n",
              "\n",
              "  <svg xmlns=\"http://www.w3.org/2000/svg\" height=\"24px\" viewBox=\"0 -960 960 960\">\n",
              "    <path d=\"M120-120v-720h720v720H120Zm60-500h600v-160H180v160Zm220 220h160v-160H400v160Zm0 220h160v-160H400v160ZM180-400h160v-160H180v160Zm440 0h160v-160H620v160ZM180-180h160v-160H180v160Zm440 0h160v-160H620v160Z\"/>\n",
              "  </svg>\n",
              "    </button>\n",
              "\n",
              "  <style>\n",
              "    .colab-df-container {\n",
              "      display:flex;\n",
              "      gap: 12px;\n",
              "    }\n",
              "\n",
              "    .colab-df-convert {\n",
              "      background-color: #E8F0FE;\n",
              "      border: none;\n",
              "      border-radius: 50%;\n",
              "      cursor: pointer;\n",
              "      display: none;\n",
              "      fill: #1967D2;\n",
              "      height: 32px;\n",
              "      padding: 0 0 0 0;\n",
              "      width: 32px;\n",
              "    }\n",
              "\n",
              "    .colab-df-convert:hover {\n",
              "      background-color: #E2EBFA;\n",
              "      box-shadow: 0px 1px 2px rgba(60, 64, 67, 0.3), 0px 1px 3px 1px rgba(60, 64, 67, 0.15);\n",
              "      fill: #174EA6;\n",
              "    }\n",
              "\n",
              "    .colab-df-buttons div {\n",
              "      margin-bottom: 4px;\n",
              "    }\n",
              "\n",
              "    [theme=dark] .colab-df-convert {\n",
              "      background-color: #3B4455;\n",
              "      fill: #D2E3FC;\n",
              "    }\n",
              "\n",
              "    [theme=dark] .colab-df-convert:hover {\n",
              "      background-color: #434B5C;\n",
              "      box-shadow: 0px 1px 3px 1px rgba(0, 0, 0, 0.15);\n",
              "      filter: drop-shadow(0px 1px 2px rgba(0, 0, 0, 0.3));\n",
              "      fill: #FFFFFF;\n",
              "    }\n",
              "  </style>\n",
              "\n",
              "    <script>\n",
              "      const buttonEl =\n",
              "        document.querySelector('#df-5aad2934-ed35-495b-a20d-faacc26dc1b6 button.colab-df-convert');\n",
              "      buttonEl.style.display =\n",
              "        google.colab.kernel.accessAllowed ? 'block' : 'none';\n",
              "\n",
              "      async function convertToInteractive(key) {\n",
              "        const element = document.querySelector('#df-5aad2934-ed35-495b-a20d-faacc26dc1b6');\n",
              "        const dataTable =\n",
              "          await google.colab.kernel.invokeFunction('convertToInteractive',\n",
              "                                                    [key], {});\n",
              "        if (!dataTable) return;\n",
              "\n",
              "        const docLinkHtml = 'Like what you see? Visit the ' +\n",
              "          '<a target=\"_blank\" href=https://colab.research.google.com/notebooks/data_table.ipynb>data table notebook</a>'\n",
              "          + ' to learn more about interactive tables.';\n",
              "        element.innerHTML = '';\n",
              "        dataTable['output_type'] = 'display_data';\n",
              "        await google.colab.output.renderOutput(dataTable, element);\n",
              "        const docLink = document.createElement('div');\n",
              "        docLink.innerHTML = docLinkHtml;\n",
              "        element.appendChild(docLink);\n",
              "      }\n",
              "    </script>\n",
              "  </div>\n",
              "\n",
              "\n",
              "    <div id=\"df-102c0db4-fc58-43fd-ac0a-50a5fe0e730b\">\n",
              "      <button class=\"colab-df-quickchart\" onclick=\"quickchart('df-102c0db4-fc58-43fd-ac0a-50a5fe0e730b')\"\n",
              "                title=\"Suggest charts\"\n",
              "                style=\"display:none;\">\n",
              "\n",
              "<svg xmlns=\"http://www.w3.org/2000/svg\" height=\"24px\"viewBox=\"0 0 24 24\"\n",
              "     width=\"24px\">\n",
              "    <g>\n",
              "        <path d=\"M19 3H5c-1.1 0-2 .9-2 2v14c0 1.1.9 2 2 2h14c1.1 0 2-.9 2-2V5c0-1.1-.9-2-2-2zM9 17H7v-7h2v7zm4 0h-2V7h2v10zm4 0h-2v-4h2v4z\"/>\n",
              "    </g>\n",
              "</svg>\n",
              "      </button>\n",
              "\n",
              "<style>\n",
              "  .colab-df-quickchart {\n",
              "      --bg-color: #E8F0FE;\n",
              "      --fill-color: #1967D2;\n",
              "      --hover-bg-color: #E2EBFA;\n",
              "      --hover-fill-color: #174EA6;\n",
              "      --disabled-fill-color: #AAA;\n",
              "      --disabled-bg-color: #DDD;\n",
              "  }\n",
              "\n",
              "  [theme=dark] .colab-df-quickchart {\n",
              "      --bg-color: #3B4455;\n",
              "      --fill-color: #D2E3FC;\n",
              "      --hover-bg-color: #434B5C;\n",
              "      --hover-fill-color: #FFFFFF;\n",
              "      --disabled-bg-color: #3B4455;\n",
              "      --disabled-fill-color: #666;\n",
              "  }\n",
              "\n",
              "  .colab-df-quickchart {\n",
              "    background-color: var(--bg-color);\n",
              "    border: none;\n",
              "    border-radius: 50%;\n",
              "    cursor: pointer;\n",
              "    display: none;\n",
              "    fill: var(--fill-color);\n",
              "    height: 32px;\n",
              "    padding: 0;\n",
              "    width: 32px;\n",
              "  }\n",
              "\n",
              "  .colab-df-quickchart:hover {\n",
              "    background-color: var(--hover-bg-color);\n",
              "    box-shadow: 0 1px 2px rgba(60, 64, 67, 0.3), 0 1px 3px 1px rgba(60, 64, 67, 0.15);\n",
              "    fill: var(--button-hover-fill-color);\n",
              "  }\n",
              "\n",
              "  .colab-df-quickchart-complete:disabled,\n",
              "  .colab-df-quickchart-complete:disabled:hover {\n",
              "    background-color: var(--disabled-bg-color);\n",
              "    fill: var(--disabled-fill-color);\n",
              "    box-shadow: none;\n",
              "  }\n",
              "\n",
              "  .colab-df-spinner {\n",
              "    border: 2px solid var(--fill-color);\n",
              "    border-color: transparent;\n",
              "    border-bottom-color: var(--fill-color);\n",
              "    animation:\n",
              "      spin 1s steps(1) infinite;\n",
              "  }\n",
              "\n",
              "  @keyframes spin {\n",
              "    0% {\n",
              "      border-color: transparent;\n",
              "      border-bottom-color: var(--fill-color);\n",
              "      border-left-color: var(--fill-color);\n",
              "    }\n",
              "    20% {\n",
              "      border-color: transparent;\n",
              "      border-left-color: var(--fill-color);\n",
              "      border-top-color: var(--fill-color);\n",
              "    }\n",
              "    30% {\n",
              "      border-color: transparent;\n",
              "      border-left-color: var(--fill-color);\n",
              "      border-top-color: var(--fill-color);\n",
              "      border-right-color: var(--fill-color);\n",
              "    }\n",
              "    40% {\n",
              "      border-color: transparent;\n",
              "      border-right-color: var(--fill-color);\n",
              "      border-top-color: var(--fill-color);\n",
              "    }\n",
              "    60% {\n",
              "      border-color: transparent;\n",
              "      border-right-color: var(--fill-color);\n",
              "    }\n",
              "    80% {\n",
              "      border-color: transparent;\n",
              "      border-right-color: var(--fill-color);\n",
              "      border-bottom-color: var(--fill-color);\n",
              "    }\n",
              "    90% {\n",
              "      border-color: transparent;\n",
              "      border-bottom-color: var(--fill-color);\n",
              "    }\n",
              "  }\n",
              "</style>\n",
              "\n",
              "      <script>\n",
              "        async function quickchart(key) {\n",
              "          const quickchartButtonEl =\n",
              "            document.querySelector('#' + key + ' button');\n",
              "          quickchartButtonEl.disabled = true;  // To prevent multiple clicks.\n",
              "          quickchartButtonEl.classList.add('colab-df-spinner');\n",
              "          try {\n",
              "            const charts = await google.colab.kernel.invokeFunction(\n",
              "                'suggestCharts', [key], {});\n",
              "          } catch (error) {\n",
              "            console.error('Error during call to suggestCharts:', error);\n",
              "          }\n",
              "          quickchartButtonEl.classList.remove('colab-df-spinner');\n",
              "          quickchartButtonEl.classList.add('colab-df-quickchart-complete');\n",
              "        }\n",
              "        (() => {\n",
              "          let quickchartButtonEl =\n",
              "            document.querySelector('#df-102c0db4-fc58-43fd-ac0a-50a5fe0e730b button');\n",
              "          quickchartButtonEl.style.display =\n",
              "            google.colab.kernel.accessAllowed ? 'block' : 'none';\n",
              "        })();\n",
              "      </script>\n",
              "    </div>\n",
              "\n",
              "    </div>\n",
              "  </div>\n"
            ],
            "application/vnd.google.colaboratory.intrinsic+json": {
              "type": "dataframe",
              "variable_name": "dataframe"
            }
          },
          "metadata": {},
          "execution_count": 4
        }
      ]
    },
    {
      "cell_type": "code",
      "source": [
        "#🦋 Remove unneccessary columns\n",
        "dataframe = dataframe.drop(columns=[\"no2\",\"no\",\"press\"])\n",
        "dataframe.head()"
      ],
      "metadata": {
        "colab": {
          "base_uri": "https://localhost:8080/",
          "height": 206
        },
        "id": "c-BD5TC8zzEj",
        "outputId": "2e21a3c4-12d3-4e26-acc8-4c3cfee7f0d9"
      },
      "id": "c-BD5TC8zzEj",
      "execution_count": 5,
      "outputs": [
        {
          "output_type": "execute_result",
          "data": {
            "text/plain": [
              "   longitude   latitude station_code                   datetime        o3  \\\n",
              "0   6.093923  50.754704      DENW094  1997-01-01 00:00:00+00:00 -1.686509   \n",
              "1   6.093923  50.754704      DENW094  1997-01-01 01:00:00+00:00 -1.686509   \n",
              "2   6.093923  50.754704      DENW094  1997-01-01 02:00:00+00:00 -1.686509   \n",
              "3   6.093923  50.754704      DENW094  1997-01-01 03:00:00+00:00 -1.686509   \n",
              "4   6.093923  50.754704      DENW094  1997-01-01 04:00:00+00:00 -1.686509   \n",
              "\n",
              "       temp  \n",
              "0 -3.566220  \n",
              "1 -3.633418  \n",
              "2 -3.646857  \n",
              "3 -3.740934  \n",
              "4 -3.767813  "
            ],
            "text/html": [
              "\n",
              "  <div id=\"df-05993e13-a62f-4b27-ac79-32f18f382b1b\" class=\"colab-df-container\">\n",
              "    <div>\n",
              "<style scoped>\n",
              "    .dataframe tbody tr th:only-of-type {\n",
              "        vertical-align: middle;\n",
              "    }\n",
              "\n",
              "    .dataframe tbody tr th {\n",
              "        vertical-align: top;\n",
              "    }\n",
              "\n",
              "    .dataframe thead th {\n",
              "        text-align: right;\n",
              "    }\n",
              "</style>\n",
              "<table border=\"1\" class=\"dataframe\">\n",
              "  <thead>\n",
              "    <tr style=\"text-align: right;\">\n",
              "      <th></th>\n",
              "      <th>longitude</th>\n",
              "      <th>latitude</th>\n",
              "      <th>station_code</th>\n",
              "      <th>datetime</th>\n",
              "      <th>o3</th>\n",
              "      <th>temp</th>\n",
              "    </tr>\n",
              "  </thead>\n",
              "  <tbody>\n",
              "    <tr>\n",
              "      <th>0</th>\n",
              "      <td>6.093923</td>\n",
              "      <td>50.754704</td>\n",
              "      <td>DENW094</td>\n",
              "      <td>1997-01-01 00:00:00+00:00</td>\n",
              "      <td>-1.686509</td>\n",
              "      <td>-3.566220</td>\n",
              "    </tr>\n",
              "    <tr>\n",
              "      <th>1</th>\n",
              "      <td>6.093923</td>\n",
              "      <td>50.754704</td>\n",
              "      <td>DENW094</td>\n",
              "      <td>1997-01-01 01:00:00+00:00</td>\n",
              "      <td>-1.686509</td>\n",
              "      <td>-3.633418</td>\n",
              "    </tr>\n",
              "    <tr>\n",
              "      <th>2</th>\n",
              "      <td>6.093923</td>\n",
              "      <td>50.754704</td>\n",
              "      <td>DENW094</td>\n",
              "      <td>1997-01-01 02:00:00+00:00</td>\n",
              "      <td>-1.686509</td>\n",
              "      <td>-3.646857</td>\n",
              "    </tr>\n",
              "    <tr>\n",
              "      <th>3</th>\n",
              "      <td>6.093923</td>\n",
              "      <td>50.754704</td>\n",
              "      <td>DENW094</td>\n",
              "      <td>1997-01-01 03:00:00+00:00</td>\n",
              "      <td>-1.686509</td>\n",
              "      <td>-3.740934</td>\n",
              "    </tr>\n",
              "    <tr>\n",
              "      <th>4</th>\n",
              "      <td>6.093923</td>\n",
              "      <td>50.754704</td>\n",
              "      <td>DENW094</td>\n",
              "      <td>1997-01-01 04:00:00+00:00</td>\n",
              "      <td>-1.686509</td>\n",
              "      <td>-3.767813</td>\n",
              "    </tr>\n",
              "  </tbody>\n",
              "</table>\n",
              "</div>\n",
              "    <div class=\"colab-df-buttons\">\n",
              "\n",
              "  <div class=\"colab-df-container\">\n",
              "    <button class=\"colab-df-convert\" onclick=\"convertToInteractive('df-05993e13-a62f-4b27-ac79-32f18f382b1b')\"\n",
              "            title=\"Convert this dataframe to an interactive table.\"\n",
              "            style=\"display:none;\">\n",
              "\n",
              "  <svg xmlns=\"http://www.w3.org/2000/svg\" height=\"24px\" viewBox=\"0 -960 960 960\">\n",
              "    <path d=\"M120-120v-720h720v720H120Zm60-500h600v-160H180v160Zm220 220h160v-160H400v160Zm0 220h160v-160H400v160ZM180-400h160v-160H180v160Zm440 0h160v-160H620v160ZM180-180h160v-160H180v160Zm440 0h160v-160H620v160Z\"/>\n",
              "  </svg>\n",
              "    </button>\n",
              "\n",
              "  <style>\n",
              "    .colab-df-container {\n",
              "      display:flex;\n",
              "      gap: 12px;\n",
              "    }\n",
              "\n",
              "    .colab-df-convert {\n",
              "      background-color: #E8F0FE;\n",
              "      border: none;\n",
              "      border-radius: 50%;\n",
              "      cursor: pointer;\n",
              "      display: none;\n",
              "      fill: #1967D2;\n",
              "      height: 32px;\n",
              "      padding: 0 0 0 0;\n",
              "      width: 32px;\n",
              "    }\n",
              "\n",
              "    .colab-df-convert:hover {\n",
              "      background-color: #E2EBFA;\n",
              "      box-shadow: 0px 1px 2px rgba(60, 64, 67, 0.3), 0px 1px 3px 1px rgba(60, 64, 67, 0.15);\n",
              "      fill: #174EA6;\n",
              "    }\n",
              "\n",
              "    .colab-df-buttons div {\n",
              "      margin-bottom: 4px;\n",
              "    }\n",
              "\n",
              "    [theme=dark] .colab-df-convert {\n",
              "      background-color: #3B4455;\n",
              "      fill: #D2E3FC;\n",
              "    }\n",
              "\n",
              "    [theme=dark] .colab-df-convert:hover {\n",
              "      background-color: #434B5C;\n",
              "      box-shadow: 0px 1px 3px 1px rgba(0, 0, 0, 0.15);\n",
              "      filter: drop-shadow(0px 1px 2px rgba(0, 0, 0, 0.3));\n",
              "      fill: #FFFFFF;\n",
              "    }\n",
              "  </style>\n",
              "\n",
              "    <script>\n",
              "      const buttonEl =\n",
              "        document.querySelector('#df-05993e13-a62f-4b27-ac79-32f18f382b1b button.colab-df-convert');\n",
              "      buttonEl.style.display =\n",
              "        google.colab.kernel.accessAllowed ? 'block' : 'none';\n",
              "\n",
              "      async function convertToInteractive(key) {\n",
              "        const element = document.querySelector('#df-05993e13-a62f-4b27-ac79-32f18f382b1b');\n",
              "        const dataTable =\n",
              "          await google.colab.kernel.invokeFunction('convertToInteractive',\n",
              "                                                    [key], {});\n",
              "        if (!dataTable) return;\n",
              "\n",
              "        const docLinkHtml = 'Like what you see? Visit the ' +\n",
              "          '<a target=\"_blank\" href=https://colab.research.google.com/notebooks/data_table.ipynb>data table notebook</a>'\n",
              "          + ' to learn more about interactive tables.';\n",
              "        element.innerHTML = '';\n",
              "        dataTable['output_type'] = 'display_data';\n",
              "        await google.colab.output.renderOutput(dataTable, element);\n",
              "        const docLink = document.createElement('div');\n",
              "        docLink.innerHTML = docLinkHtml;\n",
              "        element.appendChild(docLink);\n",
              "      }\n",
              "    </script>\n",
              "  </div>\n",
              "\n",
              "\n",
              "    <div id=\"df-e129f9ad-224d-4787-9536-7ad45fa04af2\">\n",
              "      <button class=\"colab-df-quickchart\" onclick=\"quickchart('df-e129f9ad-224d-4787-9536-7ad45fa04af2')\"\n",
              "                title=\"Suggest charts\"\n",
              "                style=\"display:none;\">\n",
              "\n",
              "<svg xmlns=\"http://www.w3.org/2000/svg\" height=\"24px\"viewBox=\"0 0 24 24\"\n",
              "     width=\"24px\">\n",
              "    <g>\n",
              "        <path d=\"M19 3H5c-1.1 0-2 .9-2 2v14c0 1.1.9 2 2 2h14c1.1 0 2-.9 2-2V5c0-1.1-.9-2-2-2zM9 17H7v-7h2v7zm4 0h-2V7h2v10zm4 0h-2v-4h2v4z\"/>\n",
              "    </g>\n",
              "</svg>\n",
              "      </button>\n",
              "\n",
              "<style>\n",
              "  .colab-df-quickchart {\n",
              "      --bg-color: #E8F0FE;\n",
              "      --fill-color: #1967D2;\n",
              "      --hover-bg-color: #E2EBFA;\n",
              "      --hover-fill-color: #174EA6;\n",
              "      --disabled-fill-color: #AAA;\n",
              "      --disabled-bg-color: #DDD;\n",
              "  }\n",
              "\n",
              "  [theme=dark] .colab-df-quickchart {\n",
              "      --bg-color: #3B4455;\n",
              "      --fill-color: #D2E3FC;\n",
              "      --hover-bg-color: #434B5C;\n",
              "      --hover-fill-color: #FFFFFF;\n",
              "      --disabled-bg-color: #3B4455;\n",
              "      --disabled-fill-color: #666;\n",
              "  }\n",
              "\n",
              "  .colab-df-quickchart {\n",
              "    background-color: var(--bg-color);\n",
              "    border: none;\n",
              "    border-radius: 50%;\n",
              "    cursor: pointer;\n",
              "    display: none;\n",
              "    fill: var(--fill-color);\n",
              "    height: 32px;\n",
              "    padding: 0;\n",
              "    width: 32px;\n",
              "  }\n",
              "\n",
              "  .colab-df-quickchart:hover {\n",
              "    background-color: var(--hover-bg-color);\n",
              "    box-shadow: 0 1px 2px rgba(60, 64, 67, 0.3), 0 1px 3px 1px rgba(60, 64, 67, 0.15);\n",
              "    fill: var(--button-hover-fill-color);\n",
              "  }\n",
              "\n",
              "  .colab-df-quickchart-complete:disabled,\n",
              "  .colab-df-quickchart-complete:disabled:hover {\n",
              "    background-color: var(--disabled-bg-color);\n",
              "    fill: var(--disabled-fill-color);\n",
              "    box-shadow: none;\n",
              "  }\n",
              "\n",
              "  .colab-df-spinner {\n",
              "    border: 2px solid var(--fill-color);\n",
              "    border-color: transparent;\n",
              "    border-bottom-color: var(--fill-color);\n",
              "    animation:\n",
              "      spin 1s steps(1) infinite;\n",
              "  }\n",
              "\n",
              "  @keyframes spin {\n",
              "    0% {\n",
              "      border-color: transparent;\n",
              "      border-bottom-color: var(--fill-color);\n",
              "      border-left-color: var(--fill-color);\n",
              "    }\n",
              "    20% {\n",
              "      border-color: transparent;\n",
              "      border-left-color: var(--fill-color);\n",
              "      border-top-color: var(--fill-color);\n",
              "    }\n",
              "    30% {\n",
              "      border-color: transparent;\n",
              "      border-left-color: var(--fill-color);\n",
              "      border-top-color: var(--fill-color);\n",
              "      border-right-color: var(--fill-color);\n",
              "    }\n",
              "    40% {\n",
              "      border-color: transparent;\n",
              "      border-right-color: var(--fill-color);\n",
              "      border-top-color: var(--fill-color);\n",
              "    }\n",
              "    60% {\n",
              "      border-color: transparent;\n",
              "      border-right-color: var(--fill-color);\n",
              "    }\n",
              "    80% {\n",
              "      border-color: transparent;\n",
              "      border-right-color: var(--fill-color);\n",
              "      border-bottom-color: var(--fill-color);\n",
              "    }\n",
              "    90% {\n",
              "      border-color: transparent;\n",
              "      border-bottom-color: var(--fill-color);\n",
              "    }\n",
              "  }\n",
              "</style>\n",
              "\n",
              "      <script>\n",
              "        async function quickchart(key) {\n",
              "          const quickchartButtonEl =\n",
              "            document.querySelector('#' + key + ' button');\n",
              "          quickchartButtonEl.disabled = true;  // To prevent multiple clicks.\n",
              "          quickchartButtonEl.classList.add('colab-df-spinner');\n",
              "          try {\n",
              "            const charts = await google.colab.kernel.invokeFunction(\n",
              "                'suggestCharts', [key], {});\n",
              "          } catch (error) {\n",
              "            console.error('Error during call to suggestCharts:', error);\n",
              "          }\n",
              "          quickchartButtonEl.classList.remove('colab-df-spinner');\n",
              "          quickchartButtonEl.classList.add('colab-df-quickchart-complete');\n",
              "        }\n",
              "        (() => {\n",
              "          let quickchartButtonEl =\n",
              "            document.querySelector('#df-e129f9ad-224d-4787-9536-7ad45fa04af2 button');\n",
              "          quickchartButtonEl.style.display =\n",
              "            google.colab.kernel.accessAllowed ? 'block' : 'none';\n",
              "        })();\n",
              "      </script>\n",
              "    </div>\n",
              "\n",
              "    </div>\n",
              "  </div>\n"
            ],
            "application/vnd.google.colaboratory.intrinsic+json": {
              "type": "dataframe",
              "variable_name": "dataframe"
            }
          },
          "metadata": {},
          "execution_count": 5
        }
      ]
    },
    {
      "cell_type": "code",
      "source": [
        "#🦋 Remove duplicates -> aggregate them with mean\n",
        "df_no_dups = dataframe.groupby(['station_code', 'datetime']).mean().reset_index()\n"
      ],
      "metadata": {
        "id": "wfZFkisYAhSv"
      },
      "id": "wfZFkisYAhSv",
      "execution_count": 6,
      "outputs": []
    },
    {
      "cell_type": "code",
      "source": [
        "df_no_dups.shape"
      ],
      "metadata": {
        "colab": {
          "base_uri": "https://localhost:8080/"
        },
        "id": "k4vIYMy7PJ2S",
        "outputId": "59e3554f-7ebe-4143-8592-76c72b0ae671"
      },
      "id": "k4vIYMy7PJ2S",
      "execution_count": 7,
      "outputs": [
        {
          "output_type": "execute_result",
          "data": {
            "text/plain": [
              "(148435, 6)"
            ]
          },
          "metadata": {},
          "execution_count": 7
        }
      ]
    },
    {
      "cell_type": "markdown",
      "source": [
        "# Data Preparation like in second notebook\n"
      ],
      "metadata": {
        "id": "0sR-iivn0S8Y"
      },
      "id": "0sR-iivn0S8Y"
    },
    {
      "cell_type": "code",
      "source": [
        "#🦋 Copied code from notebook 3\n",
        "# Function to create continous time-series data with past 24 hours as input and next 6 hours as output\n",
        "def create_sequences(data, variable_column, n_past=336, n_future=96):\n",
        "    df = data.copy()\n",
        "    df['datetime'] = pd.to_datetime(df['datetime'])\n",
        "    df = df.sort_values(['station_code', 'datetime']).reset_index(drop=True)\n",
        "\n",
        "    # 1) Encode station_code as a small integer (categorical codes) to save memory\n",
        "    df['sc_code'] = df['station_code'].astype('category')\n",
        "\n",
        "    # 2) Boolean mask: True if exactly 1 hour after the previous row (per station)\n",
        "    is1h = (\n",
        "        df.groupby('station_code')['datetime']\n",
        "          .diff()\n",
        "          .eq(pd.Timedelta(hours=1))\n",
        "    )\n",
        "\n",
        "    # 3) Compute how many consecutive “True” over (n_past + n_future - 1) rows\n",
        "    gap_window = n_past + n_future - 1\n",
        "    run = (\n",
        "        is1h.groupby(df['station_code'])\n",
        "            .rolling(window=gap_window, min_periods=gap_window)\n",
        "            .sum()\n",
        "            .reset_index(level=0, drop=True)\n",
        "    )\n",
        "\n",
        "    # 4) 'ends' are indices where run == gap_window (end of a full-length continuous block)\n",
        "    ends = run[run == gap_window].index\n",
        "\n",
        "    # 5) Grab column‐arrays for encoded station code and the variable\n",
        "    sc_arr  = df['sc_code'].values\n",
        "    vals    = df[variable_column].values\n",
        "\n",
        "    X_list = []\n",
        "    y_list = []\n",
        "    for end_idx in ends:\n",
        "        start_idx = end_idx - gap_window\n",
        "        if start_idx >= 0 and sc_arr[start_idx] == sc_arr[end_idx]:\n",
        "            station_block = sc_arr[start_idx : end_idx + 1]\n",
        "            var_block     = vals[start_idx : end_idx + 1]\n",
        "\n",
        "            block = np.column_stack((station_block, var_block))\n",
        "\n",
        "            X_list.append(block[:n_past, :])\n",
        "            y_list.append(block[n_past:, :])\n",
        "\n",
        "    if not X_list:\n",
        "        # No valid windows\n",
        "        return np.empty((0, n_past, 2)), np.empty((0, n_future, 2))\n",
        "\n",
        "    X = np.stack(X_list)  # shape = (num_windows, n_past, 2)\n",
        "    y = np.stack(y_list)  # shape = (num_windows, n_future, 2)\n",
        "    return X, y"
      ],
      "metadata": {
        "id": "aQ3s0o5a0ZsL"
      },
      "id": "aQ3s0o5a0ZsL",
      "execution_count": 8,
      "outputs": []
    },
    {
      "cell_type": "code",
      "source": [
        "#🦋 Copied code from notebook 3\n",
        "context_window = 336\n",
        "prediction_horizon = 96\n",
        "\n",
        "X, y = create_sequences(df_no_dups,variable_column, context_window,prediction_horizon)\n",
        "\n",
        "train_size = int(len(X) * 0.7)\n",
        "X_train_full, X_test_full = X[:train_size], X[train_size:]\n",
        "y_train_full, y_test_full = y[:train_size], y[train_size:]\n",
        "\n",
        "print(f\"X_train shape: {X_train_full.shape}, y_train shape: {y_train_full.shape}\")\n",
        "print(f\"X_test shape: {X_test_full.shape}, y_test shape: {y_test_full.shape}\")"
      ],
      "metadata": {
        "colab": {
          "base_uri": "https://localhost:8080/"
        },
        "id": "3nLmpboq0vf1",
        "outputId": "de452352-b325-4930-e4a7-3584175c9432"
      },
      "id": "3nLmpboq0vf1",
      "execution_count": 9,
      "outputs": [
        {
          "output_type": "stream",
          "name": "stdout",
          "text": [
            "X_train shape: (21493, 336, 3), y_train shape: (21493, 96, 3)\n",
            "X_test shape: (9212, 336, 3), y_test shape: (9212, 96, 3)\n"
          ]
        }
      ]
    },
    {
      "cell_type": "code",
      "execution_count": 10,
      "id": "a669e981",
      "metadata": {
        "colab": {
          "base_uri": "https://localhost:8080/"
        },
        "id": "a669e981",
        "outputId": "31eb7a73-bd9c-4501-d793-692f529cc1ef"
      },
      "outputs": [
        {
          "output_type": "stream",
          "name": "stdout",
          "text": [
            "X_train shape: (21493, 336, 2), y_train shape: (21493, 96, 1)\n",
            "X_test shape: (9212, 336, 2), y_test shape: (9212, 96, 1)\n"
          ]
        }
      ],
      "source": [
        "#🦋 Change test and train sets so only temp and o3 is input and not station id and only o3 is output\n",
        "\n",
        "X_train_o3 = X_train_full[:,:,1:].copy()\n",
        "X_test_o3 = X_test_full[:,:,1:].copy()\n",
        "y_train_o3 = y_train_full[:,:,2].copy()\n",
        "y_test_o3 = y_test_full[:,:,2].copy()\n",
        "\n",
        "# Flatten input features\n",
        "X_train = X_train_o3.reshape(X_train_o3.shape[0], X_train_o3.shape[1], len(variable_column))\n",
        "y_train = y_train_o3.reshape(y_train_o3.shape[0], y_train_o3.shape[1],  len(target_variable))\n",
        "X_test = X_test_o3.reshape(X_test_o3.shape[0], X_test_o3.shape[1],  len(variable_column))\n",
        "y_test = y_test_o3.reshape(y_test_o3.shape[0], y_test_o3.shape[1],   len(target_variable))\n",
        "\n",
        "X_train = np.array(X_train, dtype=np.float32)\n",
        "X_test  = np.array(X_test,  dtype=np.float32)\n",
        "y_train = np.array(y_train, dtype=np.float32)\n",
        "y_test  = np.array(y_test,  dtype=np.float32)\n",
        "\n",
        "print(f\"X_train shape: {X_train.shape}, y_train shape: {y_train.shape}\")\n",
        "print(f\"X_test shape: {X_test.shape}, y_test shape: {y_test.shape}\")"
      ]
    },
    {
      "cell_type": "code",
      "source": [
        "#🦋Flatten because now we habe more variables and we need this for training\n",
        "# Flatten Input: (samples, context_window, num_features) -> (samples, context_window * num_features)\n",
        "X_train_flat = X_train.reshape(X_train.shape[0], -1)\n",
        "X_test_flat = X_test.reshape(X_test.shape[0], -1)\n",
        "\n",
        "# Flatten Output: (samples, pred_horizon, num_target_features) -> (samples, pred_horizon * num_target_features)\n",
        "y_train_flat = y_train.reshape(y_train.shape[0], -1)\n",
        "y_test_flat = y_test.reshape(y_test.shape[0], -1)\n",
        "\n",
        "print(f\"X_train shape: {X_train_flat.shape}, y_train shape: {y_train_flat.shape}\")\n",
        "print(f\"X_test shape: {X_test_flat.shape}, y_test shape: {y_test_flat.shape}\")"
      ],
      "metadata": {
        "colab": {
          "base_uri": "https://localhost:8080/"
        },
        "id": "EjMJrU7bNFl6",
        "outputId": "2e2222ae-f45b-494c-99d1-6acbe5db3438"
      },
      "id": "EjMJrU7bNFl6",
      "execution_count": 11,
      "outputs": [
        {
          "output_type": "stream",
          "name": "stdout",
          "text": [
            "X_train shape: (21493, 672), y_train shape: (21493, 96)\n",
            "X_test shape: (9212, 672), y_test shape: (9212, 96)\n"
          ]
        }
      ]
    },
    {
      "cell_type": "markdown",
      "id": "244a93da",
      "metadata": {
        "id": "244a93da"
      },
      "source": [
        "### Forecasting with Simple Neural Network: MLP\n",
        "\n",
        "> The below snippet uses tensorflow to create a simple\n",
        "\n",
        "😈 **Task 2:** Try changing the number of input lags used. How does it affect forecasting accuracy?\n",
        "\n",
        "😈 **Task 3:** Compare results using `no2` vs `o3` as the target variable.\n"
      ]
    },
    {
      "cell_type": "markdown",
      "id": "dad11837",
      "metadata": {
        "id": "dad11837"
      },
      "source": [
        "The below cell has sample hyperparameters and activation, loss functions, Modify these values for experimentation\n",
        "\n",
        "\n",
        "😈 **Task 4:** Modify the activation function to `tanh` or `selu`. How does training performance change?\n",
        "\n",
        "😈 **Task 5:** Try different optimizers (e.g., SGD, RMSProp) and compare their impact on convergence.\n",
        "\n",
        "😈 **Question 2:** Why might ReLU not be ideal for all types of time series data?"
      ]
    },
    {
      "cell_type": "code",
      "execution_count": 12,
      "id": "dabbd816",
      "metadata": {
        "id": "dabbd816"
      },
      "outputs": [],
      "source": [
        "## Remember the checkpoints made available are trained with below hyper params\n",
        "# If changed you will have to retrain loading appropriate inputs like eg. loss\n",
        "mlp_hidden_units = [64, 32]\n",
        "mlp_epochs = 5\n",
        "mlp_batch_size = 16\n",
        "activation_fn='relu'\n",
        "mlp_optim = 'adam'\n",
        "mlp_loss = 'mse'"
      ]
    },
    {
      "cell_type": "markdown",
      "id": "WMYnz9aY5V-Q",
      "metadata": {
        "id": "WMYnz9aY5V-Q"
      },
      "source": [
        "### Load the checkpoint"
      ]
    },
    {
      "cell_type": "code",
      "execution_count": 14,
      "id": "8950dcef",
      "metadata": {
        "colab": {
          "base_uri": "https://localhost:8080/"
        },
        "id": "8950dcef",
        "outputId": "434d9c19-3c8f-40fc-f8bd-1e00a985544c"
      },
      "outputs": [
        {
          "output_type": "stream",
          "name": "stdout",
          "text": [
            "Training new model for variable 1\n",
            "Epoch 1/5\n",
            "\u001b[1m1075/1075\u001b[0m \u001b[32m━━━━━━━━━━━━━━━━━━━━\u001b[0m\u001b[37m\u001b[0m \u001b[1m5s\u001b[0m 3ms/step - loss: 0.7315 - val_loss: 0.6001\n",
            "Epoch 2/5\n",
            "\u001b[1m1075/1075\u001b[0m \u001b[32m━━━━━━━━━━━━━━━━━━━━\u001b[0m\u001b[37m\u001b[0m \u001b[1m4s\u001b[0m 2ms/step - loss: 0.5127 - val_loss: 0.5991\n",
            "Epoch 3/5\n",
            "\u001b[1m1075/1075\u001b[0m \u001b[32m━━━━━━━━━━━━━━━━━━━━\u001b[0m\u001b[37m\u001b[0m \u001b[1m10s\u001b[0m 7ms/step - loss: 0.4471 - val_loss: 0.5941\n",
            "Epoch 4/5\n",
            "\u001b[1m1075/1075\u001b[0m \u001b[32m━━━━━━━━━━━━━━━━━━━━\u001b[0m\u001b[37m\u001b[0m \u001b[1m5s\u001b[0m 3ms/step - loss: 0.4049 - val_loss: 0.6199\n",
            "Epoch 5/5\n",
            "\u001b[1m1075/1075\u001b[0m \u001b[32m━━━━━━━━━━━━━━━━━━━━\u001b[0m\u001b[37m\u001b[0m \u001b[1m3s\u001b[0m 2ms/step - loss: 0.3795 - val_loss: 0.6260\n",
            "\u001b[1m288/288\u001b[0m \u001b[32m━━━━━━━━━━━━━━━━━━━━\u001b[0m\u001b[37m\u001b[0m \u001b[1m1s\u001b[0m 2ms/step\n"
          ]
        }
      ],
      "source": [
        "#🦋 Removed checkpoint and adapt code\n",
        "num_variables = 1 #len(target_column)\n",
        "mlp_predictions = []\n",
        "training_histories = {}\n",
        "\n",
        "for var_idx in range(num_variables):\n",
        "  print(f\"Training new model for variable {var_idx + 1}\")\n",
        "\n",
        "  # Build MLP model\n",
        "  mlp_model = Sequential([\n",
        "      Input(shape=(X_train_flat.shape[1],)),  # 24 timesteps (context window)\n",
        "      Dense(mlp_hidden_units[0], activation=activation_fn)\n",
        "  ])\n",
        "\n",
        "  for units in mlp_hidden_units[1:]:\n",
        "      mlp_model.add(Dense(units, activation=activation_fn))\n",
        "\n",
        "  mlp_model.add(Dense(y_train_flat.shape[1]))  # 6 timesteps (pred horizon)\n",
        "  mlp_model.compile(optimizer=mlp_optim, loss=mlp_loss)\n",
        "\n",
        "  # Train model\n",
        "  training = mlp_model.fit(\n",
        "      X_train_flat, y_train_flat,\n",
        "      epochs=mlp_epochs, batch_size=mlp_batch_size,\n",
        "      validation_split=0.2, verbose=1\n",
        "  )\n",
        "  training_histories[var_idx] = training.history\n",
        "\n",
        "y_pred_single = mlp_model.predict(X_test_flat.astype(np.float32))\n",
        "mlp_predictions.append(y_pred_single)\n",
        "\n",
        "mlp_predictions = np.concatenate(mlp_predictions, axis=-1).reshape(y_test.shape[0], prediction_horizon, num_variables)  # Shape: (samples, pred hor, 5)\n",
        "y_pred_single = y_pred_single.reshape(y_pred_single.shape[0], prediction_horizon, 1)\n"
      ]
    },
    {
      "cell_type": "code",
      "execution_count": 15,
      "id": "cb12fce9",
      "metadata": {
        "colab": {
          "base_uri": "https://localhost:8080/"
        },
        "id": "cb12fce9",
        "outputId": "7bff30a1-1da0-4f7a-dd15-7db9125e90e0"
      },
      "outputs": [
        {
          "output_type": "stream",
          "name": "stdout",
          "text": [
            "RMSE: 0.7812\n"
          ]
        },
        {
          "output_type": "execute_result",
          "data": {
            "text/plain": [
              "np.float64(0.7811931207932132)"
            ]
          },
          "metadata": {},
          "execution_count": 15
        }
      ],
      "source": [
        "# Evaluate\n",
        "y_test_reshaped = y_test.reshape(y_test.shape[0], prediction_horizon, num_variables) ## depending on\n",
        "y_test = y_test_reshaped[:, :, var_idx]\n",
        "y_pred = mlp_predictions[:, :, var_idx]\n",
        "\n",
        "# Evaluate the model for this variable\n",
        "evaluate_model(y_test, y_pred)"
      ]
    },
    {
      "cell_type": "code",
      "execution_count": 16,
      "id": "15e6f010",
      "metadata": {
        "colab": {
          "base_uri": "https://localhost:8080/",
          "height": 840
        },
        "id": "15e6f010",
        "outputId": "f5f526a2-1fc2-48a9-8388-3fe6a472bb84"
      },
      "outputs": [
        {
          "output_type": "stream",
          "name": "stdout",
          "text": [
            "\u001b[1m1/1\u001b[0m \u001b[32m━━━━━━━━━━━━━━━━━━━━\u001b[0m\u001b[37m\u001b[0m \u001b[1m0s\u001b[0m 57ms/step\n"
          ]
        },
        {
          "output_type": "display_data",
          "data": {
            "text/plain": [
              "<Figure size 1200x1000 with 1 Axes>"
            ],
            "image/png": "[encoded data removed]"
          },
          "metadata": {}
        }
      ],
      "source": [
        "#🦋 Plot graphs\n",
        "plt.figure(figsize=(12, 10))\n",
        "\n",
        "for variable_idx in range(num_variables):\n",
        "\n",
        "    # First sample of DENW094 station to compare with PatchTST\n",
        "    X_first_idx = np.flatnonzero(X_test_full[:, 0, 0] == 'DENW094')[0]\n",
        "    #X_test_sample=X_test_full[X_first_idx, :, variable_idx+1] # First column is station code hence adding 1\n",
        "    X_test_sample = X_test_full[X_first_idx, :, 1:3]  # Spalten 1 und 2: temp + o3\n",
        "    X_test_sample_flat = X_test_sample.reshape(1, -1).astype(np.float32)\n",
        "    # First sample of DENW094 station to compare with PatchTST\n",
        "    y_first_idx = np.flatnonzero(X_test_full[:, 0, 0] == 'DENW094')[0]\n",
        "    y_test_sample=y_test_full[y_first_idx, :, variable_idx+1] # First column is station code hence adding 1\n",
        "\n",
        "    # Predict\n",
        "    mlp_pred_sample = mlp_model.predict(X_test_sample_flat).flatten()\n",
        "\n",
        "\n",
        "    plt.plot(range(context_window), X_test_sample[:,1], label=\"Context\", color=\"blue\", marker=\"o\")\n",
        "    plt.plot(range(context_window, context_window + prediction_horizon), y_test_sample, label=\"Actual Future\", color=\"green\", marker=\"o\")\n",
        "    plt.plot(range(context_window, context_window + prediction_horizon), mlp_pred_sample, label=\"MLP Prediction\", linestyle=\"--\", color=\"orange\", marker=\"x\")\n",
        "\n",
        "    plt.title(f\"MLP Forecast for {variable_column[variable_idx]}\")\n",
        "    plt.xlabel(\"Time Step\")\n",
        "    plt.ylabel(\"Ozon Level\")\n",
        "    plt.legend()\n",
        "\n",
        "plt.tight_layout()\n",
        "plt.show()\n"
      ]
    },
    {
      "cell_type": "markdown",
      "source": [
        "# Conclusion"
      ],
      "metadata": {
        "id": "9h3vEvr6f2_7"
      },
      "id": "9h3vEvr6f2_7"
    },
    {
      "cell_type": "markdown",
      "source": [
        "In this nodebook a Multilayer Perceptron (MLP) model is implemented to forecast ozone levels using past time series data with temperature and ozon levels as input features. The model was trained on normalized inputs and evaluated on unseen test samples. One such example is visualized for the DENW094 station, where the model predicted the ozon level based on the last 336 hours (context window). The predicted values (orange) closely follow the trend of the actual future values (green), demonstrating the model's ability to capture temporal dynamics. While some under- and overestimations occur, especially near peaks, the general pattern is preserved. The performance indicates that even a relatively simple feedforward MLP can provide meaningful forecasts on multivariate time series data. Further improvements may be possible using more complex models or feature engineering."
      ],
      "metadata": {
        "id": "_cLfiGKSf6Uq"
      },
      "id": "_cLfiGKSf6Uq"
    }
  ],
  "metadata": {
    "colab": {
      "machine_shape": "hm",
      "provenance": []
    },
    "kernelspec": {
      "display_name": "Python 3",
      "language": "python",
      "name": "python3"
    },
    "language_info": {
      "codemirror_mode": {
        "name": "ipython",
        "version": 3
      },
      "file_extension": ".py",
      "mimetype": "text/x-python",
      "name": "python",
      "nbconvert_exporter": "python",
      "pygments_lexer": "ipython3",
      "version": "3.12.10"
    }
  },
  "nbformat": 4,
  "nbformat_minor": 5
}