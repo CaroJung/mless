{
 "cells": [
  {
   "cell_type": "markdown",
   "id": "jSe3Bjwx1Mv7",
   "metadata": {
    "id": "jSe3Bjwx1Mv7"
   },
   "source": [
    "## Load the raw data for autoregressive models\n",
    "\n",
    "In the previous notebook, we gained some insights on certain aspects of our data. In this notebook, we shall run the classical auto-regressive ARIMA model and see its performance."
   ]
  },
  {
   "cell_type": "code",
   "execution_count": 28,
   "id": "63c24b78",
   "metadata": {
    "colab": {
     "base_uri": "https://localhost:8080/"
    },
    "executionInfo": {
     "elapsed": 1694,
     "status": "ok",
     "timestamp": 1747679484662,
     "user": {
      "displayName": "Sindhu Vasireddy",
      "userId": "14937452893279665394"
     },
     "user_tz": -120
    },
    "id": "63c24b78",
    "outputId": "0ca963c6-5a6f-42ba-fbc4-fc9e11ba0205"
   },
   "outputs": [
    {
     "data": {
      "text/plain": [
       "(576371, 5)"
      ]
     },
     "execution_count": 28,
     "metadata": {},
     "output_type": "execute_result"
    }
   ],
   "source": [
    "import pandas as pd\n",
    "import os\n",
    "\n",
    "## Normalized data csv is also made available for the select stations in URL:\n",
    "# https://drive.google.com/file/d/1cmTTWY3f18SikgRBcZzhtFswIf7XwPJq/view?usp=drive_link\n",
    "dataframe = pd.read_csv(r\"./content/timeseries_data/raw_data.csv\")\n",
    "# variable_columns = [\"no2\", \"temp\", \"o3\", \"no\", \"press\"]\n",
    "variable_column = \"temp\"\n",
    "dataframe.shape"
   ]
  },
  {
   "cell_type": "code",
   "execution_count": 29,
   "id": "58b300cc",
   "metadata": {
    "executionInfo": {
     "elapsed": 20,
     "status": "ok",
     "timestamp": 1747679525593,
     "user": {
      "displayName": "Sindhu Vasireddy",
      "userId": "14937452893279665394"
     },
     "user_tz": -120
    },
    "id": "58b300cc"
   },
   "outputs": [],
   "source": [
    "import pandas as pd\n",
    "import numpy as np\n",
    "import matplotlib.pyplot as plt\n",
    "from statsmodels.tsa.arima.model import ARIMA\n",
    "from tensorflow.keras.models import Sequential,load_model\n",
    "from tensorflow.keras.layers import Dense, LSTM, Input\n",
    "from tensorflow.keras.callbacks import ModelCheckpoint\n",
    "from tensorflow.keras.losses import MeanSquaredError\n",
    "from sklearn.preprocessing import StandardScaler\n",
    "from sklearn.metrics import mean_squared_error\n",
    "import tensorflow as tf\n",
    "import os"
   ]
  },
  {
   "cell_type": "code",
   "execution_count": 30,
   "id": "0b7e3512",
   "metadata": {
    "executionInfo": {
     "elapsed": 45,
     "status": "ok",
     "timestamp": 1747679535044,
     "user": {
      "displayName": "Sindhu Vasireddy",
      "userId": "14937452893279665394"
     },
     "user_tz": -120
    },
    "id": "0b7e3512"
   },
   "outputs": [],
   "source": [
    "# Function to create continous time-series data with past 24 hours as input and next 6 hours as output\n",
    "def create_sequences(data, n_past=24, n_future=6):\n",
    "    X, y = [], []\n",
    "    data['datetime'] = pd.to_datetime(data['datetime'], utc=True)\n",
    "    for i in range(n_past, len(data) - n_future):\n",
    "        window = data['datetime'].iloc[i - n_past : i + n_future]\n",
    "        if not (window.diff().iloc[1:] == pd.Timedelta(hours=1)).all():\n",
    "            continue # only if each step is 1 hour apart\n",
    "\n",
    "        X.append(data[variable_column].iloc[i - n_past : i].values)\n",
    "        y.append(data[variable_column].iloc[i : i + n_future].values)\n",
    "    return np.array(X), np.array(y)\n",
    "\n",
    "# Function to evaluate model performance\n",
    "def evaluate_model(y_true, y_pred):\n",
    "    mse = mean_squared_error(y_true, y_pred)\n",
    "    rmse = np.sqrt(mse)\n",
    "    print(f\"RMSE: {rmse:.4f}\")\n",
    "    return rmse"
   ]
  },
  {
   "cell_type": "code",
   "execution_count": 31,
   "id": "hBBu4uW90ZrW",
   "metadata": {
    "colab": {
     "base_uri": "https://localhost:8080/"
    },
    "executionInfo": {
     "elapsed": 306999,
     "status": "ok",
     "timestamp": 1747679864991,
     "user": {
      "displayName": "Sindhu Vasireddy",
      "userId": "14937452893279665394"
     },
     "user_tz": -120
    },
    "id": "hBBu4uW90ZrW",
    "outputId": "0fe0ffeb-b94f-4427-838d-4982eddb3ff3"
   },
   "outputs": [
    {
     "name": "stdout",
     "output_type": "stream",
     "text": [
      "X_train shape: (319325, 336), y_train shape: (319325, 96)\n",
      "X_test shape: (79832, 336), y_test shape: (79832, 96)\n"
     ]
    }
   ],
   "source": [
    "## This cell could take upto 10 mins to go over 600000 time steps to generate continous samples\n",
    "context_window = 336\n",
    "prediction_horizon = 96 # Predict 96 steps for each variable from 24 past values\n",
    "\n",
    "X, y = create_sequences(dataframe,context_window,prediction_horizon)\n",
    "\n",
    "train_size = int(len(X) * 0.8)\n",
    "X_train, X_test = X[:train_size], X[train_size:]\n",
    "y_train, y_test = y[:train_size], y[train_size:]\n",
    "\n",
    "print(f\"X_train shape: {X_train.shape}, y_train shape: {y_train.shape}\")\n",
    "print(f\"X_test shape: {X_test.shape}, y_test shape: {y_test.shape}\")"
   ]
  },
  {
   "cell_type": "markdown",
   "id": "e9c03ebd",
   "metadata": {
    "id": "e9c03ebd"
   },
   "source": [
    "### Forecasting with MA models: SARIMAX\n",
    "\n",
    "\n",
    "😈 **Task 1:** Try modeling without seasonal terms. How do AIC and RMSE compare?\n",
    "\n",
    "😈 **Task 2:** Add an exogenous variable like `o3` into SARIMAX and observe results.\n",
    "\n",
    "😈 **Question 1:** How does adding an exogenous variable enhance forecasting in SARIMAX?\n",
    "\n",
    "\n"
   ]
  },
  {
   "cell_type": "code",
   "execution_count": 34,
   "id": "25d7cf11",
   "metadata": {
    "colab": {
     "base_uri": "https://localhost:8080/",
     "height": 1000
    },
    "executionInfo": {
     "elapsed": 7976,
     "status": "ok",
     "timestamp": 1747679958599,
     "user": {
      "displayName": "Sindhu Vasireddy",
      "userId": "14937452893279665394"
     },
     "user_tz": -120
    },
    "id": "25d7cf11",
    "outputId": "4f81fea3-8aeb-477c-b08a-d8281fe96026"
   },
   "outputs": [
    {
     "name": "stdout",
     "output_type": "stream",
     "text": [
      "Sample: -1 | ADF p-value: 0.7185396084063975\n"
     ]
    },
    {
     "data": {
      "image/png": "[encoded data removed]",
      "text/plain": [
       "<Figure size 1200x1000 with 1 Axes>"
      ]
     },
     "metadata": {},
     "output_type": "display_data"
    },
    {
     "name": "stdout",
     "output_type": "stream",
     "text": [
      "Mean Squared Error (MSE): 21.604\n"
     ]
    },
    {
     "data": {
      "application/vnd.google.colaboratory.intrinsic+json": {
       "summary": "{\n  \"name\": \"sarima_results_df\",\n  \"rows\": 1,\n  \"fields\": [\n    {\n      \"column\": \"SARIMA Summary\",\n      \"properties\": {\n        \"dtype\": \"string\",\n        \"num_unique_values\": 1,\n        \"samples\": [\n          \"                                     SARIMAX Results                                      \\n==========================================================================================\\nDep. Variable:                                  y   No. Observations:                  336\\nModel:             SARIMAX(1, 1, 1)x(1, 1, 1, 24)   Log Likelihood                -235.041\\nDate:                            Mon, 19 May 2025   AIC                            480.081\\nTime:                                    18:39:18   BIC                            498.344\\nSample:                                         0   HQIC                           487.402\\n                                            - 336                                         \\nCovariance Type:                              opg                                         \\n==============================================================================\\n                 coef    std err          z      P>|z|      [0.025      0.975]\\n------------------------------------------------------------------------------\\nar.L1          0.3661      0.078      4.686      0.000       0.213       0.519\\nma.L1          0.2527      0.086      2.937      0.003       0.084       0.421\\nar.S.L24       0.0448      0.064      0.695      0.487      -0.082       0.171\\nma.S.L24      -1.0001    145.823     -0.007      0.995    -286.808     284.808\\nsigma2         0.2468     35.990      0.007      0.995     -70.291      70.785\\n===================================================================================\\nLjung-Box (L1) (Q):                   0.00   Jarque-Bera (JB):               114.61\\nProb(Q):                              0.98   Prob(JB):                         0.00\\nHeteroskedasticity (H):               0.85   Skew:                             0.41\\nProb(H) (two-sided):                  0.42   Kurtosis:                         6.00\\n===================================================================================\\n\\nWarnings:\\n[1] Covariance matrix calculated using the outer product of gradients (complex-step).\"\n        ],\n        \"semantic_type\": \"\",\n        \"description\": \"\"\n      }\n    }\n  ]\n}",
       "type": "dataframe",
       "variable_name": "sarima_results_df"
      },
      "text/html": [
       "\n",
       "  <div id=\"df-8c25cd96-0678-43fd-83cf-c02fed8a17c3\" class=\"colab-df-container\">\n",
       "    <div>\n",
       "<style scoped>\n",
       "    .dataframe tbody tr th:only-of-type {\n",
       "        vertical-align: middle;\n",
       "    }\n",
       "\n",
       "    .dataframe tbody tr th {\n",
       "        vertical-align: top;\n",
       "    }\n",
       "\n",
       "    .dataframe thead th {\n",
       "        text-align: right;\n",
       "    }\n",
       "</style>\n",
       "<table border=\"1\" class=\"dataframe\">\n",
       "  <thead>\n",
       "    <tr style=\"text-align: right;\">\n",
       "      <th></th>\n",
       "      <th>SARIMA Summary</th>\n",
       "    </tr>\n",
       "  </thead>\n",
       "  <tbody>\n",
       "    <tr>\n",
       "      <th>-1</th>\n",
       "      <td>SARIMAX R...</td>\n",
       "    </tr>\n",
       "  </tbody>\n",
       "</table>\n",
       "</div>\n",
       "    <div class=\"colab-df-buttons\">\n",
       "\n",
       "  <div class=\"colab-df-container\">\n",
       "    <button class=\"colab-df-convert\" onclick=\"convertToInteractive('df-8c25cd96-0678-43fd-83cf-c02fed8a17c3')\"\n",
       "            title=\"Convert this dataframe to an interactive table.\"\n",
       "            style=\"display:none;\">\n",
       "\n",
       "  <svg xmlns=\"http://www.w3.org/2000/svg\" height=\"24px\" viewBox=\"0 -960 960 960\">\n",
       "    <path d=\"M120-120v-720h720v720H120Zm60-500h600v-160H180v160Zm220 220h160v-160H400v160Zm0 220h160v-160H400v160ZM180-400h160v-160H180v160Zm440 0h160v-160H620v160ZM180-180h160v-160H180v160Zm440 0h160v-160H620v160Z\"/>\n",
       "  </svg>\n",
       "    </button>\n",
       "\n",
       "  <style>\n",
       "    .colab-df-container {\n",
       "      display:flex;\n",
       "      gap: 12px;\n",
       "    }\n",
       "\n",
       "    .colab-df-convert {\n",
       "      background-color: #E8F0FE;\n",
       "      border: none;\n",
       "      border-radius: 50%;\n",
       "      cursor: pointer;\n",
       "      display: none;\n",
       "      fill: #1967D2;\n",
       "      height: 32px;\n",
       "      padding: 0 0 0 0;\n",
       "      width: 32px;\n",
       "    }\n",
       "\n",
       "    .colab-df-convert:hover {\n",
       "      background-color: #E2EBFA;\n",
       "      box-shadow: 0px 1px 2px rgba(60, 64, 67, 0.3), 0px 1px 3px 1px rgba(60, 64, 67, 0.15);\n",
       "      fill: #174EA6;\n",
       "    }\n",
       "\n",
       "    .colab-df-buttons div {\n",
       "      margin-bottom: 4px;\n",
       "    }\n",
       "\n",
       "    [theme=dark] .colab-df-convert {\n",
       "      background-color: #3B4455;\n",
       "      fill: #D2E3FC;\n",
       "    }\n",
       "\n",
       "    [theme=dark] .colab-df-convert:hover {\n",
       "      background-color: #434B5C;\n",
       "      box-shadow: 0px 1px 3px 1px rgba(0, 0, 0, 0.15);\n",
       "      filter: drop-shadow(0px 1px 2px rgba(0, 0, 0, 0.3));\n",
       "      fill: #FFFFFF;\n",
       "    }\n",
       "  </style>\n",
       "\n",
       "    <script>\n",
       "      const buttonEl =\n",
       "        document.querySelector('#df-8c25cd96-0678-43fd-83cf-c02fed8a17c3 button.colab-df-convert');\n",
       "      buttonEl.style.display =\n",
       "        google.colab.kernel.accessAllowed ? 'block' : 'none';\n",
       "\n",
       "      async function convertToInteractive(key) {\n",
       "        const element = document.querySelector('#df-8c25cd96-0678-43fd-83cf-c02fed8a17c3');\n",
       "        const dataTable =\n",
       "          await google.colab.kernel.invokeFunction('convertToInteractive',\n",
       "                                                    [key], {});\n",
       "        if (!dataTable) return;\n",
       "\n",
       "        const docLinkHtml = 'Like what you see? Visit the ' +\n",
       "          '<a target=\"_blank\" href=https://colab.research.google.com/notebooks/data_table.ipynb>data table notebook</a>'\n",
       "          + ' to learn more about interactive tables.';\n",
       "        element.innerHTML = '';\n",
       "        dataTable['output_type'] = 'display_data';\n",
       "        await google.colab.output.renderOutput(dataTable, element);\n",
       "        const docLink = document.createElement('div');\n",
       "        docLink.innerHTML = docLinkHtml;\n",
       "        element.appendChild(docLink);\n",
       "      }\n",
       "    </script>\n",
       "  </div>\n",
       "\n",
       "\n",
       "  <div id=\"id_fd8fd639-7771-48d8-87be-93e6a0a9266c\">\n",
       "    <style>\n",
       "      .colab-df-generate {\n",
       "        background-color: #E8F0FE;\n",
       "        border: none;\n",
       "        border-radius: 50%;\n",
       "        cursor: pointer;\n",
       "        display: none;\n",
       "        fill: #1967D2;\n",
       "        height: 32px;\n",
       "        padding: 0 0 0 0;\n",
       "        width: 32px;\n",
       "      }\n",
       "\n",
       "      .colab-df-generate:hover {\n",
       "        background-color: #E2EBFA;\n",
       "        box-shadow: 0px 1px 2px rgba(60, 64, 67, 0.3), 0px 1px 3px 1px rgba(60, 64, 67, 0.15);\n",
       "        fill: #174EA6;\n",
       "      }\n",
       "\n",
       "      [theme=dark] .colab-df-generate {\n",
       "        background-color: #3B4455;\n",
       "        fill: #D2E3FC;\n",
       "      }\n",
       "\n",
       "      [theme=dark] .colab-df-generate:hover {\n",
       "        background-color: #434B5C;\n",
       "        box-shadow: 0px 1px 3px 1px rgba(0, 0, 0, 0.15);\n",
       "        filter: drop-shadow(0px 1px 2px rgba(0, 0, 0, 0.3));\n",
       "        fill: #FFFFFF;\n",
       "      }\n",
       "    </style>\n",
       "    <button class=\"colab-df-generate\" onclick=\"generateWithVariable('sarima_results_df')\"\n",
       "            title=\"Generate code using this dataframe.\"\n",
       "            style=\"display:none;\">\n",
       "\n",
       "  <svg xmlns=\"http://www.w3.org/2000/svg\" height=\"24px\"viewBox=\"0 0 24 24\"\n",
       "       width=\"24px\">\n",
       "    <path d=\"M7,19H8.4L18.45,9,17,7.55,7,17.6ZM5,21V16.75L18.45,3.32a2,2,0,0,1,2.83,0l1.4,1.43a1.91,1.91,0,0,1,.58,1.4,1.91,1.91,0,0,1-.58,1.4L9.25,21ZM18.45,9,17,7.55Zm-12,3A5.31,5.31,0,0,0,4.9,8.1,5.31,5.31,0,0,0,1,6.5,5.31,5.31,0,0,0,4.9,4.9,5.31,5.31,0,0,0,6.5,1,5.31,5.31,0,0,0,8.1,4.9,5.31,5.31,0,0,0,12,6.5,5.46,5.46,0,0,0,6.5,12Z\"/>\n",
       "  </svg>\n",
       "    </button>\n",
       "    <script>\n",
       "      (() => {\n",
       "      const buttonEl =\n",
       "        document.querySelector('#id_fd8fd639-7771-48d8-87be-93e6a0a9266c button.colab-df-generate');\n",
       "      buttonEl.style.display =\n",
       "        google.colab.kernel.accessAllowed ? 'block' : 'none';\n",
       "\n",
       "      buttonEl.onclick = () => {\n",
       "        google.colab.notebook.generateWithVariable('sarima_results_df');\n",
       "      }\n",
       "      })();\n",
       "    </script>\n",
       "  </div>\n",
       "\n",
       "    </div>\n",
       "  </div>\n"
      ],
      "text/plain": [
       "                                       SARIMA Summary\n",
       "-1                                       SARIMAX R..."
      ]
     },
     "metadata": {},
     "output_type": "display_data"
    }
   ],
   "source": [
    "import pandas as pd\n",
    "import numpy as np\n",
    "import matplotlib.pyplot as plt\n",
    "import statsmodels.api as sm\n",
    "from statsmodels.tsa.statespace.sarimax import SARIMAX\n",
    "from statsmodels.tsa.stattools import adfuller\n",
    "import matplotlib.dates as mdates\n",
    "from sklearn.metrics import mean_absolute_error, mean_squared_error\n",
    "\n",
    "# Define forecast horizon (96 hours = 4 days)\n",
    "forecast_hours = 96\n",
    "\n",
    "sarima_results = {}\n",
    "sample_idx = -1\n",
    "\n",
    "# Check stationarity using ADF test\n",
    "adf_test = adfuller(X_test[sample_idx])\n",
    "p_value = adf_test[1]\n",
    "print(f\"Sample: {sample_idx} | ADF p-value: {p_value}\")\n",
    "\n",
    "# Differencing if needed\n",
    "d = 0 if p_value < 0.05 else 1  # If p-value < 0.05, it's stationary\n",
    "seasonal_period = 24\n",
    "\n",
    "# Fit SARIMA model\n",
    "try:\n",
    "    sarima_model = SARIMAX(X_test[sample_idx],\n",
    "        order=(1, d, 1),\n",
    "        seasonal_order=(1, d, 1, seasonal_period),\n",
    "        enforce_stationarity=False,\n",
    "        enforce_invertibility=False).fit()\n",
    "\n",
    "    fitted_values = sarima_model.fittedvalues\n",
    "    forecast = sarima_model.get_forecast(steps=forecast_hours)\n",
    "    forecast_values = forecast.predicted_mean\n",
    "    confidence_intervals = forecast.conf_int()\n",
    "\n",
    "    # Plot actual vs predicted values\n",
    "    plt.figure(figsize=(12, 10))\n",
    "\n",
    "    plt.plot(range(context_window),  X_test[sample_idx], label=\"Context\", color=\"blue\", marker=\"o\")\n",
    "    plt.plot(range(context_window, context_window + prediction_horizon), y_test[sample_idx], label=\"Actual Future\", color=\"green\", marker=\"o\")\n",
    "    plt.plot(range(context_window, context_window + prediction_horizon), forecast_values, label=\"MLP Prediction\", linestyle=\"--\", color=\"orange\", marker=\"x\")\n",
    "\n",
    "    plt.title(f\"SARIMA 96-Hour Forecast vs Actual (336h) - {sample_idx}\")\n",
    "    plt.xlabel(\"Time Step\")\n",
    "    plt.ylabel(\"temp Levels\")\n",
    "    plt.legend()\n",
    "    plt.tight_layout()\n",
    "    plt.show()\n",
    "\n",
    "    sarima_results[sample_idx] = sarima_model.summary()\n",
    "\n",
    "    mse = mean_squared_error(y_test[sample_idx], forecast_values)\n",
    "    print(f\"Mean Squared Error (MSE): {mse:.3f}\")\n",
    "\n",
    "except Exception as e:\n",
    "    sarima_results[sample_idx] = f\"Error: {e}\"\n",
    "\n",
    "sarima_results_df = pd.DataFrame.from_dict(sarima_results, orient='index', columns=['SARIMA Summary'])\n",
    "display(sarima_results_df)\n"
   ]
  },
  {
   "cell_type": "markdown",
   "id": "34a1fc90",
   "metadata": {
    "id": "34a1fc90"
   },
   "source": [
    "## Data Preprocessing (Normalization)\n",
    "\n",
    "the snippet below uses standard Z normalization (this is a simple snippet alternatively other approaches could also be used as desired)\n",
    "\n",
    "\n",
    "😈 **Task 3:** Implement min-max normalization and compare the results visually with Z-score.\n"
   ]
  },
  {
   "cell_type": "code",
   "execution_count": null,
   "id": "lW06F1v7p8mJ",
   "metadata": {
    "id": "lW06F1v7p8mJ"
   },
   "outputs": [],
   "source": [
    "import requests\n",
    "import json\n",
    "import pandas as pd\n",
    "import os\n",
    "import csv\n",
    "from datetime import datetime\n",
    "\n",
    "# Global constants\n",
    "TIMESERIES_DATA_DIR = \"./content/timeseries_multivariate_data/\"\n",
    "TIMESERIES_CSV_DIR = os.path.join(TIMESERIES_DATA_DIR, \"toar_csv_timeseries\")\n",
    "TIMESERIES_ID_FILE = os.path.join(TIMESERIES_DATA_DIR, \"timeseriesIDs.json\")\n",
    "MIN_FILE_SIZE_BYTES = 100\n",
    "group_columns = ['station_code', 'latitude', 'longitude']\n",
    "\n",
    "os.makedirs(TIMESERIES_DATA_DIR, exist_ok=True)\n",
    "os.makedirs(TIMESERIES_CSV_DIR, exist_ok=True)"
   ]
  },
  {
   "cell_type": "code",
   "execution_count": null,
   "id": "9663fef6",
   "metadata": {
    "id": "9663fef6"
   },
   "outputs": [],
   "source": [
    "# German stations with good distribution o3 variable observations\n",
    "station_codes = [\"DENW094\", \"DEBW073\",\"DEBB029\",\"DEBE051\",\"DEHE020\"]\n",
    "# station_codes = [\"DENW094\"]\n",
    "# variable_columns = [\"no2\", \"temp\", \"o3\", \"no\", \"press\"]\n",
    "variable_columns = [\"temp\"]"
   ]
  },
  {
   "cell_type": "code",
   "execution_count": null,
   "id": "b8a947a0",
   "metadata": {
    "id": "b8a947a0"
   },
   "outputs": [],
   "source": [
    "def standard_scaler(df, columns):\n",
    "    \"\"\"\n",
    "    Standardize the specified columns of a DataFrame by subtracting the mean\n",
    "    and dividing by the standard deviation (Z-score normalization).\n",
    "\n",
    "    Args:\n",
    "        df (pd.DataFrame): The input DataFrame.\n",
    "        columns (list): List of column names to be normalized.\n",
    "\n",
    "    Returns:\n",
    "        pd.DataFrame: DataFrame with normalized columns.\n",
    "    \"\"\"\n",
    "    df_scaled = df.copy()\n",
    "    for col in columns:\n",
    "        mean = df_scaled[col].mean()\n",
    "        std = df_scaled[col].std()\n",
    "        df_scaled[col] = (df_scaled[col] - mean) / std\n",
    "    return df_scaled"
   ]
  },
  {
   "cell_type": "code",
   "execution_count": null,
   "id": "7ff0651c",
   "metadata": {
    "id": "7ff0651c",
    "outputId": "298e3599-44c9-4fba-9fc7-d9682d60836f"
   },
   "outputs": [
    {
     "data": {
      "text/html": [
       "<div>\n",
       "<style scoped>\n",
       "    .dataframe tbody tr th:only-of-type {\n",
       "        vertical-align: middle;\n",
       "    }\n",
       "\n",
       "    .dataframe tbody tr th {\n",
       "        vertical-align: top;\n",
       "    }\n",
       "\n",
       "    .dataframe thead th {\n",
       "        text-align: right;\n",
       "    }\n",
       "</style>\n",
       "<table border=\"1\" class=\"dataframe\">\n",
       "  <thead>\n",
       "    <tr style=\"text-align: right;\">\n",
       "      <th></th>\n",
       "      <th>datetime</th>\n",
       "      <th>station_code</th>\n",
       "      <th>latitude</th>\n",
       "      <th>longitude</th>\n",
       "      <th>temp</th>\n",
       "    </tr>\n",
       "  </thead>\n",
       "  <tbody>\n",
       "    <tr>\n",
       "      <th>0</th>\n",
       "      <td>1997-01-01 00:00:00+00:00</td>\n",
       "      <td>DEBW073</td>\n",
       "      <td>47.819182</td>\n",
       "      <td>7.567796</td>\n",
       "      <td>-2.663793</td>\n",
       "    </tr>\n",
       "    <tr>\n",
       "      <th>1</th>\n",
       "      <td>1997-01-01 01:00:00+00:00</td>\n",
       "      <td>DEBW073</td>\n",
       "      <td>47.819182</td>\n",
       "      <td>7.567796</td>\n",
       "      <td>-2.792464</td>\n",
       "    </tr>\n",
       "    <tr>\n",
       "      <th>2</th>\n",
       "      <td>1997-01-01 02:00:00+00:00</td>\n",
       "      <td>DEBW073</td>\n",
       "      <td>47.819182</td>\n",
       "      <td>7.567796</td>\n",
       "      <td>-2.792464</td>\n",
       "    </tr>\n",
       "    <tr>\n",
       "      <th>3</th>\n",
       "      <td>1997-01-01 03:00:00+00:00</td>\n",
       "      <td>DEBW073</td>\n",
       "      <td>47.819182</td>\n",
       "      <td>7.567796</td>\n",
       "      <td>-2.921135</td>\n",
       "    </tr>\n",
       "    <tr>\n",
       "      <th>4</th>\n",
       "      <td>1997-01-01 04:00:00+00:00</td>\n",
       "      <td>DEBW073</td>\n",
       "      <td>47.819182</td>\n",
       "      <td>7.567796</td>\n",
       "      <td>-2.921135</td>\n",
       "    </tr>\n",
       "  </tbody>\n",
       "</table>\n",
       "</div>"
      ],
      "text/plain": [
       "                    datetime station_code   latitude  longitude      temp\n",
       "0  1997-01-01 00:00:00+00:00      DEBW073  47.819182   7.567796 -2.663793\n",
       "1  1997-01-01 01:00:00+00:00      DEBW073  47.819182   7.567796 -2.792464\n",
       "2  1997-01-01 02:00:00+00:00      DEBW073  47.819182   7.567796 -2.792464\n",
       "3  1997-01-01 03:00:00+00:00      DEBW073  47.819182   7.567796 -2.921135\n",
       "4  1997-01-01 04:00:00+00:00      DEBW073  47.819182   7.567796 -2.921135"
      ]
     },
     "execution_count": 18,
     "metadata": {},
     "output_type": "execute_result"
    }
   ],
   "source": [
    "dataframes = standard_scaler(dataframe, variable_columns)\n",
    "dataframes.head()"
   ]
  },
  {
   "cell_type": "markdown",
   "id": "346d227f",
   "metadata": {
    "id": "346d227f"
   },
   "source": [
    "### Load the normalized data preparing samples for ML models.\n",
    "\n",
    "\n",
    "> Samples are needed for sequence models and transformer models for input\n",
    "\n",
    "😈 **Task 4:** What are some key differences between AR models and sequence models like RNNs or Transformers?\n",
    "\n",
    "😈 **Question 2:** Why is it important to maintain time continuity when preparing samples for sequence models?\n",
    "\n"
   ]
  },
  {
   "cell_type": "code",
   "execution_count": null,
   "id": "sRXE9Nxmz3Cu",
   "metadata": {
    "colab": {
     "base_uri": "https://localhost:8080/"
    },
    "executionInfo": {
     "elapsed": 1486,
     "status": "ok",
     "timestamp": 1747670395023,
     "user": {
      "displayName": "Sindhu Vasireddy",
      "userId": "14937452893279665394"
     },
     "user_tz": -120
    },
    "id": "sRXE9Nxmz3Cu",
    "outputId": "446879ba-2100-4444-9b34-8afb7ecbbe2c"
   },
   "outputs": [
    {
     "data": {
      "text/plain": [
       "(576371, 5)"
      ]
     },
     "execution_count": 3,
     "metadata": {},
     "output_type": "execute_result"
    }
   ],
   "source": [
    "import pandas as pd\n",
    "import os\n",
    "\n",
    "## Normalized data csv is also made available for the select stations in URL:\n",
    "# https://drive.google.com/file/d/1Eui59GyTXNv839WijdZ0CkzuMubmZQz1/view?usp=drive_link\n",
    "dataframe = pd.read_csv(r\"./content/timeseries_data/normalized_data.csv\")\n",
    "# variable_columns = [\"no2\", \"temp\", \"o3\", \"no\", \"press\"]\n",
    "variable_column = \"temp\"\n",
    "dataframe.shape"
   ]
  },
  {
   "cell_type": "markdown",
   "id": "76b26097",
   "metadata": {
    "id": "76b26097"
   },
   "source": [
    "80/20 train/test split chosen for illustration\n",
    "\n",
    "😈 **Task 5:** Try a rolling-window cross-validation strategy. How does model performance vary?\n",
    "\n",
    "😈 **Question 3:** What are the pitfalls of using random splits in timeseries forecasting?\n"
   ]
  },
  {
   "cell_type": "code",
   "execution_count": null,
   "id": "181d6c87",
   "metadata": {
    "colab": {
     "base_uri": "https://localhost:8080/"
    },
    "executionInfo": {
     "elapsed": 249953,
     "status": "ok",
     "timestamp": 1747675717124,
     "user": {
      "displayName": "Sindhu Vasireddy",
      "userId": "14937452893279665394"
     },
     "user_tz": -120
    },
    "id": "181d6c87",
    "outputId": "c91c522c-86df-48cf-a166-bf421786af18"
   },
   "outputs": [
    {
     "name": "stdout",
     "output_type": "stream",
     "text": [
      "X_train shape: (319325, 336), y_train shape: (319325, 96)\n",
      "X_test shape: (79832, 336), y_test shape: (79832, 96)\n"
     ]
    }
   ],
   "source": [
    "## This cell could take upto 10 mins to go over 600000 time steps to generate continous samples\n",
    "context_window = 336\n",
    "prediction_horizon = 96 # Predict 96 steps for each variable from 24 past values\n",
    "\n",
    "X, y = create_sequences(dataframe,context_window,prediction_horizon)\n",
    "\n",
    "train_size = int(len(X) * 0.8)\n",
    "X_train, X_test = X[:train_size], X[train_size:]\n",
    "y_train, y_test = y[:train_size], y[train_size:]\n",
    "\n",
    "print(f\"X_train shape: {X_train.shape}, y_train shape: {y_train.shape}\")\n",
    "print(f\"X_test shape: {X_test.shape}, y_test shape: {y_test.shape}\")"
   ]
  },
  {
   "cell_type": "code",
   "execution_count": null,
   "id": "059a8dfe",
   "metadata": {
    "colab": {
     "base_uri": "https://localhost:8080/"
    },
    "executionInfo": {
     "elapsed": 42824,
     "status": "ok",
     "timestamp": 1747670765661,
     "user": {
      "displayName": "Sindhu Vasireddy",
      "userId": "14937452893279665394"
     },
     "user_tz": -120
    },
    "id": "059a8dfe",
    "outputId": "1b033209-8963-43d1-806c-fe8d241deb7a"
   },
   "outputs": [
    {
     "name": "stdout",
     "output_type": "stream",
     "text": [
      "Train/test datasets saved successfully.\n"
     ]
    }
   ],
   "source": [
    "import pickle\n",
    "\n",
    "with open(\"./content/X_train.pkl\", \"wb\") as f:\n",
    "    pickle.dump(X_train, f)\n",
    "\n",
    "with open(\"./content/X_test.pkl\", \"wb\") as f:\n",
    "    pickle.dump(X_test, f)\n",
    "\n",
    "with open(\"./content/y_train.pkl\", \"wb\") as f:\n",
    "    pickle.dump(y_train, f)\n",
    "\n",
    "with open(\"./content/y_test.pkl\", \"wb\") as f:\n",
    "    pickle.dump(y_test, f)\n",
    "\n",
    "print(\"Train/test datasets saved successfully.\")"
   ]
  },
  {
   "cell_type": "code",
   "execution_count": null,
   "id": "d2361f6d",
   "metadata": {
    "colab": {
     "base_uri": "https://localhost:8080/"
    },
    "executionInfo": {
     "elapsed": 2718,
     "status": "ok",
     "timestamp": 1747670820743,
     "user": {
      "displayName": "Sindhu Vasireddy",
      "userId": "14937452893279665394"
     },
     "user_tz": -120
    },
    "id": "d2361f6d",
    "outputId": "c081eab4-3793-4c05-e1e1-6599630eb5f1"
   },
   "outputs": [
    {
     "name": "stdout",
     "output_type": "stream",
     "text": [
      "X_train shape: (319325, 336), y_train shape: (319325, 96)\n",
      "X_test shape: (79832, 336), y_test shape: (79832, 96)\n"
     ]
    }
   ],
   "source": [
    "import pickle\n",
    "## Processed data .pkl files are also made available for the select stations in URL:\n",
    "# only temp : https://drive.google.com/drive/folders/197WGFswCLYinkx-48XBMQKILwJQMokd0?usp=sharing\n",
    "\n",
    "with open(\"./content/X_train.pkl\", \"rb\") as f:\n",
    "    X_train = pickle.load(f)\n",
    "\n",
    "with open(\"./content/X_test.pkl\", \"rb\") as f:\n",
    "    X_test = pickle.load(f)\n",
    "\n",
    "with open(\"./content/y_train.pkl\", \"rb\") as f:\n",
    "    y_train = pickle.load(f)\n",
    "\n",
    "with open(\"./content/y_test.pkl\", \"rb\") as f:\n",
    "    y_test = pickle.load(f)\n",
    "\n",
    "print(f\"X_train shape: {X_train.shape}, y_train shape: {y_train.shape}\")\n",
    "print(f\"X_test shape: {X_test.shape}, y_test shape: {y_test.shape}\")\n"
   ]
  }
 ],
 "metadata": {
  "colab": {
   "collapsed_sections": [
    "346d227f"
   ],
   "provenance": []
  },
  "kernelspec": {
   "display_name": "Python 3",
   "language": "python",
   "name": "python3"
  },
  "language_info": {
   "codemirror_mode": {
    "name": "ipython",
    "version": 3
   },
   "file_extension": ".py",
   "mimetype": "text/x-python",
   "name": "python",
   "nbconvert_exporter": "python",
   "pygments_lexer": "ipython3",
   "version": "3.12.10"
  }
 },
 "nbformat": 4,
 "nbformat_minor": 5
}
