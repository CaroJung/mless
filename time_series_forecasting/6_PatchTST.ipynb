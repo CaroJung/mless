{
 "cells": [
  {
   "cell_type": "markdown",
   "id": "7d9f2f56",
   "metadata": {
    "id": "7d9f2f56"
   },
   "source": [
    "# Installation\n",
    "\n",
    "This demo requires Hugging Face [`Transformers`](https://github.com/huggingface/transformers) for the model, and the IBM `tsfm` package for auxiliary data pre-processing.\n",
    "We can install both by cloning the `tsfm` repository and following the below steps.\n",
    "\n",
    "\n",
    "😈 **Task 1:** Explore what `PatchTST` offers compared to traditional transformers. What’s unique about the patching mechanism?\n",
    "\n",
    "\n",
    "1. Clone the public IBM Time Series Foundation Model Repository [`tsfm`](https://github.com/ibm/tsfm).\n",
    "\n",
    "2. Install Hugging Face [`Transformers`](https://github.com/huggingface/transformers#installation)\n",
    "\n",
    "3. Test it with the following commands in a `python` terminal.\n"
   ]
  },
  {
   "cell_type": "code",
   "execution_count": 1,
   "id": "d5018a61",
   "metadata": {
    "colab": {
     "base_uri": "https://localhost:8080/"
    },
    "executionInfo": {
     "elapsed": 130607,
     "status": "ok",
     "timestamp": 1745507096409,
     "user": {
      "displayName": "Harish Marimuthu",
      "userId": "11945811846333685520"
     },
     "user_tz": -120
    },
    "id": "d5018a61",
    "outputId": "094b97bb-3226-4f18-9cfb-84c56edb3e11"
   },
   "outputs": [
    {
     "name": "stdout",
     "output_type": "stream",
     "text": [
      "Collecting git+https://github.com/IBM/tsfm.git\n",
      "  Cloning https://github.com/IBM/tsfm.git to /tmp/pip-req-build-cflj5typ\n",
      "  Running command git clone --filter=blob:none --quiet https://github.com/IBM/tsfm.git /tmp/pip-req-build-cflj5typ\n",
      "  Resolved https://github.com/IBM/tsfm.git to commit 7449f9dfcdef3bf0fa7779170360cbf57af665fa\n",
      "  Installing build dependencies ... \u001b[?25l\u001b[?25hdone\n",
      "  Getting requirements to build wheel ... \u001b[?25l\u001b[?25hdone\n",
      "  Preparing metadata (pyproject.toml) ... \u001b[?25l\u001b[?25hdone\n",
      "Requirement already satisfied: transformers in /usr/local/lib/python3.11/dist-packages (4.51.3)\n",
      "Requirement already satisfied: tf_keras in /usr/local/lib/python3.11/dist-packages (2.18.0)\n",
      "Requirement already satisfied: pandas>=2.2.0 in /usr/local/lib/python3.11/dist-packages (from granite-tsfm==0.2.24) (2.2.2)\n",
      "Requirement already satisfied: scikit-learn in /usr/local/lib/python3.11/dist-packages (from granite-tsfm==0.2.24) (1.6.1)\n",
      "Collecting datasets (from granite-tsfm==0.2.24)\n",
      "  Downloading datasets-3.5.0-py3-none-any.whl.metadata (19 kB)\n",
      "Requirement already satisfied: deprecated in /usr/local/lib/python3.11/dist-packages (from granite-tsfm==0.2.24) (1.2.18)\n",
      "Requirement already satisfied: urllib3>=1.26.19 in /usr/local/lib/python3.11/dist-packages (from granite-tsfm==0.2.24) (2.3.0)\n",
      "Requirement already satisfied: numpy<3 in /usr/local/lib/python3.11/dist-packages (from granite-tsfm==0.2.24) (2.0.2)\n",
      "Requirement already satisfied: filelock in /usr/local/lib/python3.11/dist-packages (from transformers) (3.18.0)\n",
      "Requirement already satisfied: huggingface-hub<1.0,>=0.30.0 in /usr/local/lib/python3.11/dist-packages (from transformers) (0.30.2)\n",
      "Requirement already satisfied: packaging>=20.0 in /usr/local/lib/python3.11/dist-packages (from transformers) (24.2)\n",
      "Requirement already satisfied: pyyaml>=5.1 in /usr/local/lib/python3.11/dist-packages (from transformers) (6.0.2)\n",
      "Requirement already satisfied: regex!=2019.12.17 in /usr/local/lib/python3.11/dist-packages (from transformers) (2024.11.6)\n",
      "Requirement already satisfied: requests in /usr/local/lib/python3.11/dist-packages (from transformers) (2.32.3)\n",
      "Requirement already satisfied: tokenizers<0.22,>=0.21 in /usr/local/lib/python3.11/dist-packages (from transformers) (0.21.1)\n",
      "Requirement already satisfied: safetensors>=0.4.3 in /usr/local/lib/python3.11/dist-packages (from transformers) (0.5.3)\n",
      "Requirement already satisfied: tqdm>=4.27 in /usr/local/lib/python3.11/dist-packages (from transformers) (4.67.1)\n",
      "Requirement already satisfied: tensorflow<2.19,>=2.18 in /usr/local/lib/python3.11/dist-packages (from tf_keras) (2.18.0)\n",
      "Requirement already satisfied: fsspec>=2023.5.0 in /usr/local/lib/python3.11/dist-packages (from huggingface-hub<1.0,>=0.30.0->transformers) (2025.3.2)\n",
      "Requirement already satisfied: typing-extensions>=3.7.4.3 in /usr/local/lib/python3.11/dist-packages (from huggingface-hub<1.0,>=0.30.0->transformers) (4.13.2)\n",
      "Requirement already satisfied: python-dateutil>=2.8.2 in /usr/local/lib/python3.11/dist-packages (from pandas>=2.2.0->granite-tsfm==0.2.24) (2.8.2)\n",
      "Requirement already satisfied: pytz>=2020.1 in /usr/local/lib/python3.11/dist-packages (from pandas>=2.2.0->granite-tsfm==0.2.24) (2025.2)\n",
      "Requirement already satisfied: tzdata>=2022.7 in /usr/local/lib/python3.11/dist-packages (from pandas>=2.2.0->granite-tsfm==0.2.24) (2025.2)\n",
      "Requirement already satisfied: absl-py>=1.0.0 in /usr/local/lib/python3.11/dist-packages (from tensorflow<2.19,>=2.18->tf_keras) (1.4.0)\n",
      "Requirement already satisfied: astunparse>=1.6.0 in /usr/local/lib/python3.11/dist-packages (from tensorflow<2.19,>=2.18->tf_keras) (1.6.3)\n",
      "Requirement already satisfied: flatbuffers>=24.3.25 in /usr/local/lib/python3.11/dist-packages (from tensorflow<2.19,>=2.18->tf_keras) (25.2.10)\n",
      "Requirement already satisfied: gast!=0.5.0,!=0.5.1,!=0.5.2,>=0.2.1 in /usr/local/lib/python3.11/dist-packages (from tensorflow<2.19,>=2.18->tf_keras) (0.6.0)\n",
      "Requirement already satisfied: google-pasta>=0.1.1 in /usr/local/lib/python3.11/dist-packages (from tensorflow<2.19,>=2.18->tf_keras) (0.2.0)\n",
      "Requirement already satisfied: libclang>=13.0.0 in /usr/local/lib/python3.11/dist-packages (from tensorflow<2.19,>=2.18->tf_keras) (18.1.1)\n",
      "Requirement already satisfied: opt-einsum>=2.3.2 in /usr/local/lib/python3.11/dist-packages (from tensorflow<2.19,>=2.18->tf_keras) (3.4.0)\n",
      "Requirement already satisfied: protobuf!=4.21.0,!=4.21.1,!=4.21.2,!=4.21.3,!=4.21.4,!=4.21.5,<6.0.0dev,>=3.20.3 in /usr/local/lib/python3.11/dist-packages (from tensorflow<2.19,>=2.18->tf_keras) (5.29.4)\n",
      "Requirement already satisfied: setuptools in /usr/local/lib/python3.11/dist-packages (from tensorflow<2.19,>=2.18->tf_keras) (75.2.0)\n",
      "Requirement already satisfied: six>=1.12.0 in /usr/local/lib/python3.11/dist-packages (from tensorflow<2.19,>=2.18->tf_keras) (1.17.0)\n",
      "Requirement already satisfied: termcolor>=1.1.0 in /usr/local/lib/python3.11/dist-packages (from tensorflow<2.19,>=2.18->tf_keras) (3.0.1)\n",
      "Requirement already satisfied: wrapt>=1.11.0 in /usr/local/lib/python3.11/dist-packages (from tensorflow<2.19,>=2.18->tf_keras) (1.17.2)\n",
      "Requirement already satisfied: grpcio<2.0,>=1.24.3 in /usr/local/lib/python3.11/dist-packages (from tensorflow<2.19,>=2.18->tf_keras) (1.71.0)\n",
      "Requirement already satisfied: tensorboard<2.19,>=2.18 in /usr/local/lib/python3.11/dist-packages (from tensorflow<2.19,>=2.18->tf_keras) (2.18.0)\n",
      "Requirement already satisfied: keras>=3.5.0 in /usr/local/lib/python3.11/dist-packages (from tensorflow<2.19,>=2.18->tf_keras) (3.8.0)\n",
      "Requirement already satisfied: h5py>=3.11.0 in /usr/local/lib/python3.11/dist-packages (from tensorflow<2.19,>=2.18->tf_keras) (3.13.0)\n",
      "Requirement already satisfied: ml-dtypes<0.5.0,>=0.4.0 in /usr/local/lib/python3.11/dist-packages (from tensorflow<2.19,>=2.18->tf_keras) (0.4.1)\n",
      "Requirement already satisfied: tensorflow-io-gcs-filesystem>=0.23.1 in /usr/local/lib/python3.11/dist-packages (from tensorflow<2.19,>=2.18->tf_keras) (0.37.1)\n",
      "Requirement already satisfied: charset-normalizer<4,>=2 in /usr/local/lib/python3.11/dist-packages (from requests->transformers) (3.4.1)\n",
      "Requirement already satisfied: idna<4,>=2.5 in /usr/local/lib/python3.11/dist-packages (from requests->transformers) (3.10)\n",
      "Requirement already satisfied: certifi>=2017.4.17 in /usr/local/lib/python3.11/dist-packages (from requests->transformers) (2025.1.31)\n",
      "Requirement already satisfied: torch>=2.0 in /usr/local/lib/python3.11/dist-packages (from transformers[torch]>=4.38.0->granite-tsfm==0.2.24) (2.6.0+cu124)\n",
      "Requirement already satisfied: accelerate>=0.26.0 in /usr/local/lib/python3.11/dist-packages (from transformers[torch]>=4.38.0->granite-tsfm==0.2.24) (1.5.2)\n",
      "Requirement already satisfied: pyarrow>=15.0.0 in /usr/local/lib/python3.11/dist-packages (from datasets->granite-tsfm==0.2.24) (18.1.0)\n",
      "Collecting dill<0.3.9,>=0.3.0 (from datasets->granite-tsfm==0.2.24)\n",
      "  Downloading dill-0.3.8-py3-none-any.whl.metadata (10 kB)\n",
      "Collecting xxhash (from datasets->granite-tsfm==0.2.24)\n",
      "  Downloading xxhash-3.5.0-cp311-cp311-manylinux_2_17_x86_64.manylinux2014_x86_64.whl.metadata (12 kB)\n",
      "Collecting multiprocess<0.70.17 (from datasets->granite-tsfm==0.2.24)\n",
      "  Downloading multiprocess-0.70.16-py311-none-any.whl.metadata (7.2 kB)\n",
      "Collecting fsspec>=2023.5.0 (from huggingface-hub<1.0,>=0.30.0->transformers)\n",
      "  Downloading fsspec-2024.12.0-py3-none-any.whl.metadata (11 kB)\n",
      "Requirement already satisfied: aiohttp in /usr/local/lib/python3.11/dist-packages (from datasets->granite-tsfm==0.2.24) (3.11.15)\n",
      "Requirement already satisfied: scipy>=1.6.0 in /usr/local/lib/python3.11/dist-packages (from scikit-learn->granite-tsfm==0.2.24) (1.14.1)\n",
      "Requirement already satisfied: joblib>=1.2.0 in /usr/local/lib/python3.11/dist-packages (from scikit-learn->granite-tsfm==0.2.24) (1.4.2)\n",
      "Requirement already satisfied: threadpoolctl>=3.1.0 in /usr/local/lib/python3.11/dist-packages (from scikit-learn->granite-tsfm==0.2.24) (3.6.0)\n",
      "Requirement already satisfied: psutil in /usr/local/lib/python3.11/dist-packages (from accelerate>=0.26.0->transformers[torch]>=4.38.0->granite-tsfm==0.2.24) (5.9.5)\n",
      "Requirement already satisfied: wheel<1.0,>=0.23.0 in /usr/local/lib/python3.11/dist-packages (from astunparse>=1.6.0->tensorflow<2.19,>=2.18->tf_keras) (0.45.1)\n",
      "Requirement already satisfied: aiohappyeyeballs>=2.3.0 in /usr/local/lib/python3.11/dist-packages (from aiohttp->datasets->granite-tsfm==0.2.24) (2.6.1)\n",
      "Requirement already satisfied: aiosignal>=1.1.2 in /usr/local/lib/python3.11/dist-packages (from aiohttp->datasets->granite-tsfm==0.2.24) (1.3.2)\n",
      "Requirement already satisfied: attrs>=17.3.0 in /usr/local/lib/python3.11/dist-packages (from aiohttp->datasets->granite-tsfm==0.2.24) (25.3.0)\n",
      "Requirement already satisfied: frozenlist>=1.1.1 in /usr/local/lib/python3.11/dist-packages (from aiohttp->datasets->granite-tsfm==0.2.24) (1.5.0)\n",
      "Requirement already satisfied: multidict<7.0,>=4.5 in /usr/local/lib/python3.11/dist-packages (from aiohttp->datasets->granite-tsfm==0.2.24) (6.4.3)\n",
      "Requirement already satisfied: propcache>=0.2.0 in /usr/local/lib/python3.11/dist-packages (from aiohttp->datasets->granite-tsfm==0.2.24) (0.3.1)\n",
      "Requirement already satisfied: yarl<2.0,>=1.17.0 in /usr/local/lib/python3.11/dist-packages (from aiohttp->datasets->granite-tsfm==0.2.24) (1.19.0)\n",
      "Requirement already satisfied: rich in /usr/local/lib/python3.11/dist-packages (from keras>=3.5.0->tensorflow<2.19,>=2.18->tf_keras) (13.9.4)\n",
      "Requirement already satisfied: namex in /usr/local/lib/python3.11/dist-packages (from keras>=3.5.0->tensorflow<2.19,>=2.18->tf_keras) (0.0.8)\n",
      "Requirement already satisfied: optree in /usr/local/lib/python3.11/dist-packages (from keras>=3.5.0->tensorflow<2.19,>=2.18->tf_keras) (0.15.0)\n",
      "Requirement already satisfied: markdown>=2.6.8 in /usr/local/lib/python3.11/dist-packages (from tensorboard<2.19,>=2.18->tensorflow<2.19,>=2.18->tf_keras) (3.8)\n",
      "Requirement already satisfied: tensorboard-data-server<0.8.0,>=0.7.0 in /usr/local/lib/python3.11/dist-packages (from tensorboard<2.19,>=2.18->tensorflow<2.19,>=2.18->tf_keras) (0.7.2)\n",
      "Requirement already satisfied: werkzeug>=1.0.1 in /usr/local/lib/python3.11/dist-packages (from tensorboard<2.19,>=2.18->tensorflow<2.19,>=2.18->tf_keras) (3.1.3)\n",
      "Requirement already satisfied: networkx in /usr/local/lib/python3.11/dist-packages (from torch>=2.0->transformers[torch]>=4.38.0->granite-tsfm==0.2.24) (3.4.2)\n",
      "Requirement already satisfied: jinja2 in /usr/local/lib/python3.11/dist-packages (from torch>=2.0->transformers[torch]>=4.38.0->granite-tsfm==0.2.24) (3.1.6)\n",
      "Collecting nvidia-cuda-nvrtc-cu12==12.4.127 (from torch>=2.0->transformers[torch]>=4.38.0->granite-tsfm==0.2.24)\n",
      "  Downloading nvidia_cuda_nvrtc_cu12-12.4.127-py3-none-manylinux2014_x86_64.whl.metadata (1.5 kB)\n",
      "Collecting nvidia-cuda-runtime-cu12==12.4.127 (from torch>=2.0->transformers[torch]>=4.38.0->granite-tsfm==0.2.24)\n",
      "  Downloading nvidia_cuda_runtime_cu12-12.4.127-py3-none-manylinux2014_x86_64.whl.metadata (1.5 kB)\n",
      "Collecting nvidia-cuda-cupti-cu12==12.4.127 (from torch>=2.0->transformers[torch]>=4.38.0->granite-tsfm==0.2.24)\n",
      "  Downloading nvidia_cuda_cupti_cu12-12.4.127-py3-none-manylinux2014_x86_64.whl.metadata (1.6 kB)\n",
      "Collecting nvidia-cudnn-cu12==9.1.0.70 (from torch>=2.0->transformers[torch]>=4.38.0->granite-tsfm==0.2.24)\n",
      "  Downloading nvidia_cudnn_cu12-9.1.0.70-py3-none-manylinux2014_x86_64.whl.metadata (1.6 kB)\n",
      "Collecting nvidia-cublas-cu12==12.4.5.8 (from torch>=2.0->transformers[torch]>=4.38.0->granite-tsfm==0.2.24)\n",
      "  Downloading nvidia_cublas_cu12-12.4.5.8-py3-none-manylinux2014_x86_64.whl.metadata (1.5 kB)\n",
      "Collecting nvidia-cufft-cu12==11.2.1.3 (from torch>=2.0->transformers[torch]>=4.38.0->granite-tsfm==0.2.24)\n",
      "  Downloading nvidia_cufft_cu12-11.2.1.3-py3-none-manylinux2014_x86_64.whl.metadata (1.5 kB)\n",
      "Collecting nvidia-curand-cu12==10.3.5.147 (from torch>=2.0->transformers[torch]>=4.38.0->granite-tsfm==0.2.24)\n",
      "  Downloading nvidia_curand_cu12-10.3.5.147-py3-none-manylinux2014_x86_64.whl.metadata (1.5 kB)\n",
      "Collecting nvidia-cusolver-cu12==11.6.1.9 (from torch>=2.0->transformers[torch]>=4.38.0->granite-tsfm==0.2.24)\n",
      "  Downloading nvidia_cusolver_cu12-11.6.1.9-py3-none-manylinux2014_x86_64.whl.metadata (1.6 kB)\n",
      "Collecting nvidia-cusparse-cu12==12.3.1.170 (from torch>=2.0->transformers[torch]>=4.38.0->granite-tsfm==0.2.24)\n",
      "  Downloading nvidia_cusparse_cu12-12.3.1.170-py3-none-manylinux2014_x86_64.whl.metadata (1.6 kB)\n",
      "Requirement already satisfied: nvidia-cusparselt-cu12==0.6.2 in /usr/local/lib/python3.11/dist-packages (from torch>=2.0->transformers[torch]>=4.38.0->granite-tsfm==0.2.24) (0.6.2)\n",
      "Requirement already satisfied: nvidia-nccl-cu12==2.21.5 in /usr/local/lib/python3.11/dist-packages (from torch>=2.0->transformers[torch]>=4.38.0->granite-tsfm==0.2.24) (2.21.5)\n",
      "Requirement already satisfied: nvidia-nvtx-cu12==12.4.127 in /usr/local/lib/python3.11/dist-packages (from torch>=2.0->transformers[torch]>=4.38.0->granite-tsfm==0.2.24) (12.4.127)\n",
      "Collecting nvidia-nvjitlink-cu12==12.4.127 (from torch>=2.0->transformers[torch]>=4.38.0->granite-tsfm==0.2.24)\n",
      "  Downloading nvidia_nvjitlink_cu12-12.4.127-py3-none-manylinux2014_x86_64.whl.metadata (1.5 kB)\n",
      "Requirement already satisfied: triton==3.2.0 in /usr/local/lib/python3.11/dist-packages (from torch>=2.0->transformers[torch]>=4.38.0->granite-tsfm==0.2.24) (3.2.0)\n",
      "Requirement already satisfied: sympy==1.13.1 in /usr/local/lib/python3.11/dist-packages (from torch>=2.0->transformers[torch]>=4.38.0->granite-tsfm==0.2.24) (1.13.1)\n",
      "Requirement already satisfied: mpmath<1.4,>=1.1.0 in /usr/local/lib/python3.11/dist-packages (from sympy==1.13.1->torch>=2.0->transformers[torch]>=4.38.0->granite-tsfm==0.2.24) (1.3.0)\n",
      "Requirement already satisfied: MarkupSafe>=2.1.1 in /usr/local/lib/python3.11/dist-packages (from werkzeug>=1.0.1->tensorboard<2.19,>=2.18->tensorflow<2.19,>=2.18->tf_keras) (3.0.2)\n",
      "Requirement already satisfied: markdown-it-py>=2.2.0 in /usr/local/lib/python3.11/dist-packages (from rich->keras>=3.5.0->tensorflow<2.19,>=2.18->tf_keras) (3.0.0)\n",
      "Requirement already satisfied: pygments<3.0.0,>=2.13.0 in /usr/local/lib/python3.11/dist-packages (from rich->keras>=3.5.0->tensorflow<2.19,>=2.18->tf_keras) (2.18.0)\n",
      "Requirement already satisfied: mdurl~=0.1 in /usr/local/lib/python3.11/dist-packages (from markdown-it-py>=2.2.0->rich->keras>=3.5.0->tensorflow<2.19,>=2.18->tf_keras) (0.1.2)\n",
      "Downloading datasets-3.5.0-py3-none-any.whl (491 kB)\n",
      "\u001b[2K   \u001b[90m━━━━━━━━━━━━━━━━━━━━━━━━━━━━━━━━━━━━━━━━\u001b[0m \u001b[32m491.2/491.2 kB\u001b[0m \u001b[31m12.6 MB/s\u001b[0m eta \u001b[36m0:00:00\u001b[0m\n",
      "\u001b[?25hDownloading dill-0.3.8-py3-none-any.whl (116 kB)\n",
      "\u001b[2K   \u001b[90m━━━━━━━━━━━━━━━━━━━━━━━━━━━━━━━━━━━━━━━━\u001b[0m \u001b[32m116.3/116.3 kB\u001b[0m \u001b[31m13.1 MB/s\u001b[0m eta \u001b[36m0:00:00\u001b[0m\n",
      "\u001b[?25hDownloading fsspec-2024.12.0-py3-none-any.whl (183 kB)\n",
      "\u001b[2K   \u001b[90m━━━━━━━━━━━━━━━━━━━━━━━━━━━━━━━━━━━━━━━━\u001b[0m \u001b[32m183.9/183.9 kB\u001b[0m \u001b[31m22.0 MB/s\u001b[0m eta \u001b[36m0:00:00\u001b[0m\n",
      "\u001b[?25hDownloading multiprocess-0.70.16-py311-none-any.whl (143 kB)\n",
      "\u001b[2K   \u001b[90m━━━━━━━━━━━━━━━━━━━━━━━━━━━━━━━━━━━━━━━━\u001b[0m \u001b[32m143.5/143.5 kB\u001b[0m \u001b[31m15.5 MB/s\u001b[0m eta \u001b[36m0:00:00\u001b[0m\n",
      "\u001b[?25hDownloading nvidia_cublas_cu12-12.4.5.8-py3-none-manylinux2014_x86_64.whl (363.4 MB)\n",
      "\u001b[2K   \u001b[90m━━━━━━━━━━━━━━━━━━━━━━━━━━━━━━━━━━━━━━━━\u001b[0m \u001b[32m363.4/363.4 MB\u001b[0m \u001b[31m1.6 MB/s\u001b[0m eta \u001b[36m0:00:00\u001b[0m\n",
      "\u001b[?25hDownloading nvidia_cuda_cupti_cu12-12.4.127-py3-none-manylinux2014_x86_64.whl (13.8 MB)\n",
      "\u001b[2K   \u001b[90m━━━━━━━━━━━━━━━━━━━━━━━━━━━━━━━━━━━━━━━━\u001b[0m \u001b[32m13.8/13.8 MB\u001b[0m \u001b[31m85.0 MB/s\u001b[0m eta \u001b[36m0:00:00\u001b[0m\n",
      "\u001b[?25hDownloading nvidia_cuda_nvrtc_cu12-12.4.127-py3-none-manylinux2014_x86_64.whl (24.6 MB)\n",
      "\u001b[2K   \u001b[90m━━━━━━━━━━━━━━━━━━━━━━━━━━━━━━━━━━━━━━━━\u001b[0m \u001b[32m24.6/24.6 MB\u001b[0m \u001b[31m63.2 MB/s\u001b[0m eta \u001b[36m0:00:00\u001b[0m\n",
      "\u001b[?25hDownloading nvidia_cuda_runtime_cu12-12.4.127-py3-none-manylinux2014_x86_64.whl (883 kB)\n",
      "\u001b[2K   \u001b[90m━━━━━━━━━━━━━━━━━━━━━━━━━━━━━━━━━━━━━━━━\u001b[0m \u001b[32m883.7/883.7 kB\u001b[0m \u001b[31m46.8 MB/s\u001b[0m eta \u001b[36m0:00:00\u001b[0m\n",
      "\u001b[?25hDownloading nvidia_cudnn_cu12-9.1.0.70-py3-none-manylinux2014_x86_64.whl (664.8 MB)\n",
      "\u001b[2K   \u001b[90m━━━━━━━━━━━━━━━━━━━━━━━━━━━━━━━━━━━━━━━━\u001b[0m \u001b[32m664.8/664.8 MB\u001b[0m \u001b[31m1.2 MB/s\u001b[0m eta \u001b[36m0:00:00\u001b[0m\n",
      "\u001b[?25hDownloading nvidia_cufft_cu12-11.2.1.3-py3-none-manylinux2014_x86_64.whl (211.5 MB)\n",
      "\u001b[2K   \u001b[90m━━━━━━━━━━━━━━━━━━━━━━━━━━━━━━━━━━━━━━━━\u001b[0m \u001b[32m211.5/211.5 MB\u001b[0m \u001b[31m5.9 MB/s\u001b[0m eta \u001b[36m0:00:00\u001b[0m\n",
      "\u001b[?25hDownloading nvidia_curand_cu12-10.3.5.147-py3-none-manylinux2014_x86_64.whl (56.3 MB)\n",
      "\u001b[2K   \u001b[90m━━━━━━━━━━━━━━━━━━━━━━━━━━━━━━━━━━━━━━━━\u001b[0m \u001b[32m56.3/56.3 MB\u001b[0m \u001b[31m20.8 MB/s\u001b[0m eta \u001b[36m0:00:00\u001b[0m\n",
      "\u001b[?25hDownloading nvidia_cusolver_cu12-11.6.1.9-py3-none-manylinux2014_x86_64.whl (127.9 MB)\n",
      "\u001b[2K   \u001b[90m━━━━━━━━━━━━━━━━━━━━━━━━━━━━━━━━━━━━━━━━\u001b[0m \u001b[32m127.9/127.9 MB\u001b[0m \u001b[31m7.5 MB/s\u001b[0m eta \u001b[36m0:00:00\u001b[0m\n",
      "\u001b[?25hDownloading nvidia_cusparse_cu12-12.3.1.170-py3-none-manylinux2014_x86_64.whl (207.5 MB)\n",
      "\u001b[2K   \u001b[90m━━━━━━━━━━━━━━━━━━━━━━━━━━━━━━━━━━━━━━━━\u001b[0m \u001b[32m207.5/207.5 MB\u001b[0m \u001b[31m5.8 MB/s\u001b[0m eta \u001b[36m0:00:00\u001b[0m\n",
      "\u001b[?25hDownloading nvidia_nvjitlink_cu12-12.4.127-py3-none-manylinux2014_x86_64.whl (21.1 MB)\n",
      "\u001b[2K   \u001b[90m━━━━━━━━━━━━━━━━━━━━━━━━━━━━━━━━━━━━━━━━\u001b[0m \u001b[32m21.1/21.1 MB\u001b[0m \u001b[31m80.3 MB/s\u001b[0m eta \u001b[36m0:00:00\u001b[0m\n",
      "\u001b[?25hDownloading xxhash-3.5.0-cp311-cp311-manylinux_2_17_x86_64.manylinux2014_x86_64.whl (194 kB)\n",
      "\u001b[2K   \u001b[90m━━━━━━━━━━━━━━━━━━━━━━━━━━━━━━━━━━━━━━━━\u001b[0m \u001b[32m194.8/194.8 kB\u001b[0m \u001b[31m19.2 MB/s\u001b[0m eta \u001b[36m0:00:00\u001b[0m\n",
      "\u001b[?25hBuilding wheels for collected packages: granite-tsfm\n",
      "  Building wheel for granite-tsfm (pyproject.toml) ... \u001b[?25l\u001b[?25hdone\n",
      "  Created wheel for granite-tsfm: filename=granite_tsfm-0.2.24-py3-none-any.whl size=2341526 sha256=9a6eb17a96ce54a1f78b971df06c771624a626bbacb2213cb4af2416cb810333\n",
      "  Stored in directory: /tmp/pip-ephem-wheel-cache-klmcaw7q/wheels/24/c7/01/23d7cf106815383a897898c33ebd5079e92d11d5dbce14dadb\n",
      "Successfully built granite-tsfm\n",
      "Installing collected packages: xxhash, nvidia-nvjitlink-cu12, nvidia-curand-cu12, nvidia-cufft-cu12, nvidia-cuda-runtime-cu12, nvidia-cuda-nvrtc-cu12, nvidia-cuda-cupti-cu12, nvidia-cublas-cu12, fsspec, dill, nvidia-cusparse-cu12, nvidia-cudnn-cu12, multiprocess, nvidia-cusolver-cu12, datasets, granite-tsfm\n",
      "  Attempting uninstall: nvidia-nvjitlink-cu12\n",
      "    Found existing installation: nvidia-nvjitlink-cu12 12.5.82\n",
      "    Uninstalling nvidia-nvjitlink-cu12-12.5.82:\n",
      "      Successfully uninstalled nvidia-nvjitlink-cu12-12.5.82\n",
      "  Attempting uninstall: nvidia-curand-cu12\n",
      "    Found existing installation: nvidia-curand-cu12 10.3.6.82\n",
      "    Uninstalling nvidia-curand-cu12-10.3.6.82:\n",
      "      Successfully uninstalled nvidia-curand-cu12-10.3.6.82\n",
      "  Attempting uninstall: nvidia-cufft-cu12\n",
      "    Found existing installation: nvidia-cufft-cu12 11.2.3.61\n",
      "    Uninstalling nvidia-cufft-cu12-11.2.3.61:\n",
      "      Successfully uninstalled nvidia-cufft-cu12-11.2.3.61\n",
      "  Attempting uninstall: nvidia-cuda-runtime-cu12\n",
      "    Found existing installation: nvidia-cuda-runtime-cu12 12.5.82\n",
      "    Uninstalling nvidia-cuda-runtime-cu12-12.5.82:\n",
      "      Successfully uninstalled nvidia-cuda-runtime-cu12-12.5.82\n",
      "  Attempting uninstall: nvidia-cuda-nvrtc-cu12\n",
      "    Found existing installation: nvidia-cuda-nvrtc-cu12 12.5.82\n",
      "    Uninstalling nvidia-cuda-nvrtc-cu12-12.5.82:\n",
      "      Successfully uninstalled nvidia-cuda-nvrtc-cu12-12.5.82\n",
      "  Attempting uninstall: nvidia-cuda-cupti-cu12\n",
      "    Found existing installation: nvidia-cuda-cupti-cu12 12.5.82\n",
      "    Uninstalling nvidia-cuda-cupti-cu12-12.5.82:\n",
      "      Successfully uninstalled nvidia-cuda-cupti-cu12-12.5.82\n",
      "  Attempting uninstall: nvidia-cublas-cu12\n",
      "    Found existing installation: nvidia-cublas-cu12 12.5.3.2\n",
      "    Uninstalling nvidia-cublas-cu12-12.5.3.2:\n",
      "      Successfully uninstalled nvidia-cublas-cu12-12.5.3.2\n",
      "  Attempting uninstall: fsspec\n",
      "    Found existing installation: fsspec 2025.3.2\n",
      "    Uninstalling fsspec-2025.3.2:\n",
      "      Successfully uninstalled fsspec-2025.3.2\n",
      "  Attempting uninstall: nvidia-cusparse-cu12\n",
      "    Found existing installation: nvidia-cusparse-cu12 12.5.1.3\n",
      "    Uninstalling nvidia-cusparse-cu12-12.5.1.3:\n",
      "      Successfully uninstalled nvidia-cusparse-cu12-12.5.1.3\n",
      "  Attempting uninstall: nvidia-cudnn-cu12\n",
      "    Found existing installation: nvidia-cudnn-cu12 9.3.0.75\n",
      "    Uninstalling nvidia-cudnn-cu12-9.3.0.75:\n",
      "      Successfully uninstalled nvidia-cudnn-cu12-9.3.0.75\n",
      "  Attempting uninstall: nvidia-cusolver-cu12\n",
      "    Found existing installation: nvidia-cusolver-cu12 11.6.3.83\n",
      "    Uninstalling nvidia-cusolver-cu12-11.6.3.83:\n",
      "      Successfully uninstalled nvidia-cusolver-cu12-11.6.3.83\n",
      "\u001b[31mERROR: pip's dependency resolver does not currently take into account all the packages that are installed. This behaviour is the source of the following dependency conflicts.\n",
      "gcsfs 2025.3.2 requires fsspec==2025.3.2, but you have fsspec 2024.12.0 which is incompatible.\u001b[0m\u001b[31m\n",
      "\u001b[0mSuccessfully installed datasets-3.5.0 dill-0.3.8 fsspec-2024.12.0 granite-tsfm-0.2.24 multiprocess-0.70.16 nvidia-cublas-cu12-12.4.5.8 nvidia-cuda-cupti-cu12-12.4.127 nvidia-cuda-nvrtc-cu12-12.4.127 nvidia-cuda-runtime-cu12-12.4.127 nvidia-cudnn-cu12-9.1.0.70 nvidia-cufft-cu12-11.2.1.3 nvidia-curand-cu12-10.3.5.147 nvidia-cusolver-cu12-11.6.1.9 nvidia-cusparse-cu12-12.3.1.170 nvidia-nvjitlink-cu12-12.4.127 xxhash-3.5.0\n"
     ]
    }
   ],
   "source": [
    "!pip install git+https://github.com/IBM/tsfm.git transformers tf_keras"
   ]
  },
  {
   "cell_type": "code",
   "execution_count": 2,
   "id": "7c81f362",
   "metadata": {
    "executionInfo": {
     "elapsed": 29589,
     "status": "ok",
     "timestamp": 1745507126012,
     "user": {
      "displayName": "Harish Marimuthu",
      "userId": "11945811846333685520"
     },
     "user_tz": -120
    },
    "id": "7c81f362"
   },
   "outputs": [],
   "source": [
    "from transformers import PatchTSTConfig\n",
    "from tsfm_public.toolkit.dataset import ForecastDFDataset"
   ]
  },
  {
   "cell_type": "markdown",
   "id": "aee47f07",
   "metadata": {
    "id": "aee47f07"
   },
   "source": [
    "## Part 1: Forecasting on the TOAR dataset\n",
    "Here we train a `PatchTST` model directly on the TOAR normalized data similar to TOAR huggingface example and evaluate its performance.\n",
    "\n",
    "😈 **Question 1:** Why might a transformer model be well-suited for air quality forecasting?\n",
    "\n",
    "😈 **Task 2:** Compare PatchTST against LSTM or MLP. What trends do you notice?\n"
   ]
  },
  {
   "cell_type": "code",
   "execution_count": 2,
   "id": "2e700534",
   "metadata": {
    "executionInfo": {
     "elapsed": 24664,
     "status": "ok",
     "timestamp": 1745507150658,
     "user": {
      "displayName": "Harish Marimuthu",
      "userId": "11945811846333685520"
     },
     "user_tz": -120
    },
    "id": "2e700534"
   },
   "outputs": [
    {
     "name": "stderr",
     "output_type": "stream",
     "text": [
      "c:\\Users\\s.vasired\\miniconda3\\envs\\myenv_labex\\Lib\\site-packages\\tqdm\\auto.py:21: TqdmWarning: IProgress not found. Please update jupyter and ipywidgets. See https://ipywidgets.readthedocs.io/en/stable/user_install.html\n",
      "  from .autonotebook import tqdm as notebook_tqdm\n"
     ]
    },
    {
     "name": "stdout",
     "output_type": "stream",
     "text": [
      "WARNING:tensorflow:From c:\\Users\\s.vasired\\miniconda3\\envs\\myenv_labex\\Lib\\site-packages\\tf_keras\\src\\losses.py:2976: The name tf.losses.sparse_softmax_cross_entropy is deprecated. Please use tf.compat.v1.losses.sparse_softmax_cross_entropy instead.\n",
      "\n"
     ]
    }
   ],
   "source": [
    "# Standard\n",
    "import os\n",
    "\n",
    "# Third Party\n",
    "from transformers import (\n",
    "    EarlyStoppingCallback,\n",
    "    PatchTSTConfig,\n",
    "    PatchTSTForPrediction,\n",
    "    set_seed,\n",
    "    Trainer,\n",
    "    TrainingArguments,\n",
    ")\n",
    "import numpy as np\n",
    "import pandas as pd\n",
    "\n",
    "# First Party\n",
    "from tsfm_public.toolkit.dataset import ForecastDFDataset\n",
    "from tsfm_public.toolkit.time_series_preprocessor import TimeSeriesPreprocessor\n",
    "from tsfm_public.toolkit.util import select_by_index\n",
    "\n",
    "# supress some warnings\n",
    "import warnings\n",
    "\n",
    "warnings.filterwarnings(\"ignore\", module=\"torch\")"
   ]
  },
  {
   "cell_type": "markdown",
   "id": "c9f3c9f7",
   "metadata": {
    "id": "c9f3c9f7"
   },
   "source": [
    "### Set seed\n",
    "\n",
    "😈 **Task 3:** Try changing the seed and observe if training results vary significantly.\n"
   ]
  },
  {
   "cell_type": "code",
   "execution_count": 3,
   "id": "51b43d85",
   "metadata": {
    "executionInfo": {
     "elapsed": 8,
     "status": "ok",
     "timestamp": 1745507150686,
     "user": {
      "displayName": "Harish Marimuthu",
      "userId": "11945811846333685520"
     },
     "user_tz": -120
    },
    "id": "51b43d85"
   },
   "outputs": [],
   "source": [
    "set_seed(2025)"
   ]
  },
  {
   "cell_type": "markdown",
   "id": "3187f9b0",
   "metadata": {
    "id": "3187f9b0"
   },
   "source": [
    "### Load and prepare datasets\n",
    "\n",
    " In the next cell, please adjust the following parameters to suit your application:\n",
    " - `dataset_path`: path to local .csv file, or web address to a csv file for the data of interest. Data is loaded with pandas, so anything supported by\n",
    "   `pd.read_csv` is supported: (https://pandas.pydata.org/pandas-docs/stable/reference/api/pandas.read_csv.html).\n",
    " - `timestamp_column`: column name containing timestamp information, use `None` if there is no such column.\n",
    " - `id_columns`: List of column names specifying the IDs of different time series. If no ID column exists, use `[]`.\n",
    " - `forecast_columns`: List of columns to be modeled\n",
    " - `context_length`: The amount of historical data used as input to the model. Windows of the input time series data with length equal to `context_length` will be extracted from the input dataframe. In the case of a multi-time series dataset, the context windows will be created so that they are contained within a single time series (i.e., a single ID).\n",
    " - `forecast_horizon`: Number of timestamps to forecast in the future.\n",
    " - `train_start_index`, `train_end_index`: the start and end indices in the loaded data which delineate the training data.\n",
    " - `valid_start_index`, `eval_end_index`: the start and end indices in the loaded data which delineate the validation data.\n",
    " - `test_start_index`, `eval_end_index`: the start and end indices in the loaded data which delineate the test data.\n",
    " - `patch_length`: The patch length for the `PatchTST` model. It is recommended to choose a value that evenly divides `context_length`.\n",
    " - `num_workers`: Number of CPU workers in the PyTorch dataloader.\n",
    " - `batch_size`: Batch size.\n",
    "\n",
    "The data is first loaded into a Pandas dataframe and split into training, validation, and test parts. Then the Pandas dataframes are converted to the appropriate PyTorch dataset required for training.\n",
    "\n",
    "😈 **Task 4:** Change `context_length` or `patch_length` and compare validation loss.\n",
    "\n",
    "😈 **Question 2:** Why does `patch_length` need to divide `context_length` evenly?\n"
   ]
  },
  {
   "cell_type": "code",
   "execution_count": 4,
   "id": "2a2fe2f1",
   "metadata": {
    "executionInfo": {
     "elapsed": 6,
     "status": "ok",
     "timestamp": 1745507150697,
     "user": {
      "displayName": "Harish Marimuthu",
      "userId": "11945811846333685520"
     },
     "user_tz": -120
    },
    "id": "2a2fe2f1"
   },
   "outputs": [],
   "source": [
    "# TOAR normalized data is loaded from r\"/content/normalized_data.csv\"\n",
    "dataset_path = r\"/content/timeseries_data/raw_data.csv\"\n",
    "timestamp_column = \"datetime\"\n",
    "id_columns = ['station_code','latitude','longitude']\n",
    "\n",
    "context_length = 336\n",
    "forecast_horizon = 96\n",
    "patch_length = 16\n",
    "num_workers = 16  # Reduce this if you have low number of CPU cores\n",
    "batch_size = 64  # Adjust according to GPU memory"
   ]
  },
  {
   "cell_type": "code",
   "execution_count": 5,
   "id": "fc812e8f",
   "metadata": {
    "executionInfo": {
     "elapsed": 6,
     "status": "ok",
     "timestamp": 1745507150707,
     "user": {
      "displayName": "Harish Marimuthu",
      "userId": "11945811846333685520"
     },
     "user_tz": -120
    },
    "id": "fc812e8f"
   },
   "outputs": [],
   "source": [
    "data = pd.read_csv(\n",
    "    dataset_path,\n",
    "    parse_dates=[timestamp_column],\n",
    ")\n",
    "data = data[data['station_code'] == \"DENW094\"]\n",
    "observable_columns = [\"no2\", \"temp\", \"o3\", \"no\", \"press\"]\n",
    "target_columns = observable_columns #[\"o3\"]\n",
    "\n",
    "# get split\n",
    "num_train = int(len(data) * 0.7)\n",
    "num_test = int(len(data) * 0.2)\n",
    "num_valid = len(data) - num_train - num_test\n",
    "border1s = [\n",
    "    0,\n",
    "    num_train - context_length,\n",
    "    len(data) - num_test - context_length,\n",
    "]\n",
    "border2s = [num_train, num_train + num_valid, len(data)]\n",
    "\n",
    "train_start_index = border1s[0]  # None indicates beginning of dataset\n",
    "train_end_index = border2s[0]\n",
    "\n",
    "# we shift the start of the evaluation period back by context length so that\n",
    "# the first evaluation timestamp is immediately following the training data\n",
    "valid_start_index = border1s[1]\n",
    "valid_end_index = border2s[1]\n",
    "\n",
    "test_start_index = border1s[2]\n",
    "test_end_index = border2s[2]\n",
    "\n",
    "train_data = select_by_index(\n",
    "    data,\n",
    "    id_columns=id_columns,\n",
    "    start_index=train_start_index,\n",
    "    end_index=train_end_index,\n",
    ")\n",
    "valid_data = select_by_index(\n",
    "    data,\n",
    "    id_columns=id_columns,\n",
    "    start_index=valid_start_index,\n",
    "    end_index=valid_end_index,\n",
    ")\n",
    "test_data = select_by_index(\n",
    "    data,\n",
    "    id_columns=id_columns,\n",
    "    start_index=test_start_index,\n",
    "    end_index=test_end_index,\n",
    ")\n",
    "\n",
    "time_series_preprocessor = TimeSeriesPreprocessor(\n",
    "    timestamp_column=timestamp_column,\n",
    "    id_columns=id_columns,\n",
    "    input_columns=observable_columns,\n",
    "    output_columns=target_columns,\n",
    "    scaling=True,\n",
    ")\n",
    "time_series_preprocessor = time_series_preprocessor.train(train_data)"
   ]
  },
  {
   "cell_type": "markdown",
   "id": "f19751a9",
   "metadata": {
    "id": "f19751a9"
   },
   "source": [
    "Note: Input and output columns have been renamed target and observable columns in the newer version of tsfm not reflected in huggingface notebook\n",
    "\n",
    "😈 **Task 5:** Update the code to reflect `tsfm`’s new naming and ensure compatibility.\n"
   ]
  },
  {
   "cell_type": "code",
   "execution_count": 6,
   "id": "77bf19ff",
   "metadata": {
    "executionInfo": {
     "elapsed": 5,
     "status": "ok",
     "timestamp": 1745507150710,
     "user": {
      "displayName": "Harish Marimuthu",
      "userId": "11945811846333685520"
     },
     "user_tz": -120
    },
    "id": "77bf19ff"
   },
   "outputs": [],
   "source": [
    "train_dataset = ForecastDFDataset(\n",
    "    time_series_preprocessor.preprocess(train_data),\n",
    "    id_columns=id_columns,\n",
    "    timestamp_column=timestamp_column,\n",
    "    observable_columns=observable_columns,\n",
    "    target_columns=target_columns,\n",
    "    context_length=context_length,\n",
    "    prediction_length=forecast_horizon,\n",
    ")\n",
    "valid_dataset = ForecastDFDataset(\n",
    "    time_series_preprocessor.preprocess(valid_data),\n",
    "    id_columns=id_columns,\n",
    "    timestamp_column=timestamp_column,\n",
    "    observable_columns=observable_columns,\n",
    "    target_columns=target_columns,\n",
    "    context_length=context_length,\n",
    "    prediction_length=forecast_horizon,\n",
    ")\n",
    "test_dataset = ForecastDFDataset(\n",
    "    time_series_preprocessor.preprocess(test_data),\n",
    "    id_columns=id_columns,\n",
    "    timestamp_column=timestamp_column,\n",
    "    observable_columns=observable_columns,\n",
    "    target_columns=target_columns,\n",
    "    context_length=context_length,\n",
    "    prediction_length=forecast_horizon,\n",
    ")"
   ]
  },
  {
   "cell_type": "markdown",
   "id": "2486ca20",
   "metadata": {
    "id": "2486ca20"
   },
   "source": [
    "### Configure the PatchTST model\n",
    "\n",
    "Next, we instantiate a randomly initialized `PatchTST` model with a configuration. The settings below control the different hyperparameters related to the architecture.\n",
    "  - `num_input_channels`: the number of input channels (or dimensions) in the time series data. This is\n",
    "    automatically set to the number for forecast columns.\n",
    "  - `context_length`: As described above, the amount of historical data used as input to the model.\n",
    "  - `patch_length`: The length of the patches extracted from the context window (of length `context_length`).\n",
    "  - `patch_stride`: The stride used when extracting patches from the context window.\n",
    "  - `random_mask_ratio`: The fraction of input patches that are completely masked for pretraining the model.\n",
    "  - `d_model`: Dimension of the transformer layers.\n",
    "  - `num_attention_heads`: The number of attention heads for each attention layer in the Transformer encoder.\n",
    "  - `num_hidden_layers`: The number of encoder layers.\n",
    "  - `ffn_dim`: Dimension of the intermediate (often referred to as feed-forward) layer in the encoder.\n",
    "  - `dropout`: Dropout probability for all fully connected layers in the encoder.\n",
    "  - `head_dropout`: Dropout probability used in the head of the model.\n",
    "  - `pooling_type`: Pooling of the embedding. `\"mean\"`, `\"max\"` and `None` are supported.\n",
    "  - `channel_attention`: Activate the channel attention block in the Transformer to allow channels to attend to each other.\n",
    "  - `scaling`: Whether to scale the input targets via \"mean\" scaler, \"std\" scaler, or no scaler if `None`. If `True`, the\n",
    "    scaler is set to `\"mean\"`.\n",
    "  - `loss`: The loss function for the model corresponding to the `distribution_output` head. For parametric\n",
    "    distributions it is the negative log-likelihood (`\"nll\"`) and for point estimates it is the mean squared\n",
    "    error `\"mse\"`.\n",
    "  - `pre_norm`: Normalization is applied before self-attention if pre_norm is set to `True`. Otherwise, normalization is\n",
    "    applied after residual block.\n",
    "  - `norm_type`: Normalization at each Transformer layer. Can be `\"BatchNorm\"` or `\"LayerNorm\"`.\n",
    "\n",
    "For full details on the parameters, we refer to the [documentation](https://huggingface.co/docs/transformers/main/en/model_doc/patchtst#transformers.PatchTSTConfig).\n",
    "\n",
    "😈 **Task 6:** Test `dropout`, `d_model`, and `num_attention_heads` variations to understand their impact.\n",
    "\n",
    "😈 **Question 3:** What’s the difference between `LayerNorm` and `BatchNorm`, and when might one be preferred over the other?\n",
    "\n"
   ]
  },
  {
   "cell_type": "code",
   "execution_count": 7,
   "id": "1e153ad6",
   "metadata": {
    "executionInfo": {
     "elapsed": 3,
     "status": "ok",
     "timestamp": 1745507150715,
     "user": {
      "displayName": "Harish Marimuthu",
      "userId": "11945811846333685520"
     },
     "user_tz": -120
    },
    "id": "1e153ad6"
   },
   "outputs": [],
   "source": [
    "config = PatchTSTConfig(\n",
    "    num_input_channels=len(observable_columns),\n",
    "    context_length=context_length,\n",
    "    patch_length=patch_length,\n",
    "    patch_stride=patch_length,\n",
    "    prediction_length=forecast_horizon,\n",
    "    random_mask_ratio=0.4,\n",
    "    d_model=128,\n",
    "    num_attention_heads=16,\n",
    "    num_hidden_layers=3,\n",
    "    ffn_dim=256,\n",
    "    dropout=0.2,\n",
    "    head_dropout=0.2,\n",
    "    pooling_type=None,\n",
    "    channel_attention=False,\n",
    "    scaling=\"std\",\n",
    "    loss=\"mse\",\n",
    "    pre_norm=True,\n",
    "    norm_type=\"batchnorm\",\n",
    ")\n",
    "model = PatchTSTForPrediction(config)"
   ]
  },
  {
   "cell_type": "markdown",
   "id": "f1330aee",
   "metadata": {
    "id": "f1330aee"
   },
   "source": [
    "### Optional\n",
    " if you would like to use wandb\n",
    "\n",
    "😈 **Task 7:** Log additional metrics like MAE or custom visualizations in wandb.\n"
   ]
  },
  {
   "cell_type": "code",
   "execution_count": null,
   "id": "6a15e5ab",
   "metadata": {
    "id": "6a15e5ab"
   },
   "outputs": [],
   "source": [
    "# !export WANDB_API_KEY=<Your-API-Key>\n",
    "# !pip install wandb\n",
    "# !wandb login"
   ]
  },
  {
   "cell_type": "markdown",
   "id": "9aefa459",
   "metadata": {
    "id": "9aefa459"
   },
   "source": [
    "### Train model\n",
    "\n",
    "Next, we can leverage the Hugging Face [Trainer](https://huggingface.co/docs/transformers/main_classes/trainer) class to train the model based on the direct forecasting strategy. We first define the [TrainingArguments](https://huggingface.co/docs/transformers/main_classes/trainer#transformers.TrainingArguments) which lists various hyperparameters for training such as the number of epochs, learning rate and so on.\n",
    "\n",
    "😈 **Task 8:** Implement early stopping. How does it affect training duration and validation loss?\n"
   ]
  },
  {
   "cell_type": "code",
   "execution_count": 8,
   "id": "99c4b1d2",
   "metadata": {
    "executionInfo": {
     "elapsed": 795,
     "status": "ok",
     "timestamp": 1745507151513,
     "user": {
      "displayName": "Harish Marimuthu",
      "userId": "11945811846333685520"
     },
     "user_tz": -120
    },
    "id": "99c4b1d2"
   },
   "outputs": [],
   "source": [
    "training_args = TrainingArguments(\n",
    "    output_dir=\"./checkpoint/patchtst/TOAR/pretrain/output/\",\n",
    "    overwrite_output_dir=True,\n",
    "    # learning_rate=0.001,\n",
    "    num_train_epochs=10,\n",
    "    do_eval=True,\n",
    "    eval_strategy=\"epoch\", # previously evaluation_strategy\n",
    "    per_device_train_batch_size=batch_size,\n",
    "    per_device_eval_batch_size=batch_size,\n",
    "    dataloader_num_workers=num_workers,\n",
    "    save_strategy=\"epoch\",\n",
    "    logging_strategy=\"epoch\",\n",
    "    save_total_limit=3,\n",
    "    logging_dir=\"./checkpoint/patchtst/TOAR/pretrain/logs/\",  # Make sure to specify a logging directory\n",
    "    load_best_model_at_end=True,  # Load the best model when training ends\n",
    "    metric_for_best_model=\"eval_loss\",  # Metric to monitor for early stopping\n",
    "    greater_is_better=False,  # For loss\n",
    "    label_names=[\"future_values\"],\n",
    ")\n",
    "\n",
    "# Create the early stopping callback\n",
    "early_stopping_callback = EarlyStoppingCallback(\n",
    "    early_stopping_patience=3,  # Number of epochs with no improvement after which to stop\n",
    "    early_stopping_threshold=0.001,  # Minimum improvement required to consider as improvement\n",
    ")\n",
    "\n",
    "# define trainer\n",
    "trainer = Trainer(\n",
    "    model=model,\n",
    "    args=training_args,\n",
    "    train_dataset=train_dataset,\n",
    "    eval_dataset=valid_dataset,\n",
    "    callbacks=[early_stopping_callback],\n",
    "    # compute_metrics=compute_metrics,\n",
    ")"
   ]
  },
  {
   "cell_type": "code",
   "execution_count": 10,
   "id": "20559df9",
   "metadata": {
    "colab": {
     "base_uri": "https://localhost:8080/",
     "height": 613
    },
    "executionInfo": {
     "elapsed": 1832858,
     "status": "ok",
     "timestamp": 1745509124054,
     "user": {
      "displayName": "Harish Marimuthu",
      "userId": "11945811846333685520"
     },
     "user_tz": -120
    },
    "id": "20559df9",
    "outputId": "193263f4-e36d-4e8a-9442-c7f4b10f2301"
   },
   "outputs": [
    {
     "name": "stderr",
     "output_type": "stream",
     "text": [
      "\u001b[34m\u001b[1mwandb\u001b[0m: \u001b[33mWARNING\u001b[0m The `run_name` is currently set to the same value as `TrainingArguments.output_dir`. If this was not intended, please specify a different run name by setting the `TrainingArguments.run_name` parameter.\n",
      "\u001b[34m\u001b[1mwandb\u001b[0m: Using wandb-core as the SDK backend.  Please refer to https://wandb.me/wandb-core for more information.\n"
     ]
    },
    {
     "data": {
      "application/javascript": "\n        window._wandbApiKey = new Promise((resolve, reject) => {\n            function loadScript(url) {\n            return new Promise(function(resolve, reject) {\n                let newScript = document.createElement(\"script\");\n                newScript.onerror = reject;\n                newScript.onload = resolve;\n                document.body.appendChild(newScript);\n                newScript.src = url;\n            });\n            }\n            loadScript(\"https://cdn.jsdelivr.net/npm/postmate/build/postmate.min.js\").then(() => {\n            const iframe = document.createElement('iframe')\n            iframe.style.cssText = \"width:0;height:0;border:none\"\n            document.body.appendChild(iframe)\n            const handshake = new Postmate({\n                container: iframe,\n                url: 'https://wandb.ai/authorize'\n            });\n            const timeout = setTimeout(() => reject(\"Couldn't auto authenticate\"), 5000)\n            handshake.then(function(child) {\n                child.on('authorize', data => {\n                    clearTimeout(timeout)\n                    resolve(data)\n                });\n            });\n            })\n        });\n    ",
      "text/plain": [
       "<IPython.core.display.Javascript object>"
      ]
     },
     "metadata": {},
     "output_type": "display_data"
    },
    {
     "name": "stderr",
     "output_type": "stream",
     "text": [
      "\u001b[34m\u001b[1mwandb\u001b[0m: Logging into wandb.ai. (Learn how to deploy a W&B server locally: https://wandb.me/wandb-server)\n",
      "\u001b[34m\u001b[1mwandb\u001b[0m: You can find your API key in your browser here: https://wandb.ai/authorize\n",
      "wandb: Paste an API key from your profile and hit enter:"
     ]
    },
    {
     "name": "stdout",
     "output_type": "stream",
     "text": [
      " ··········\n"
     ]
    },
    {
     "name": "stderr",
     "output_type": "stream",
     "text": [
      "\u001b[34m\u001b[1mwandb\u001b[0m: \u001b[33mWARNING\u001b[0m If you're specifying your api key in code, ensure this code is not shared publicly.\n",
      "\u001b[34m\u001b[1mwandb\u001b[0m: \u001b[33mWARNING\u001b[0m Consider setting the WANDB_API_KEY environment variable, or running `wandb login` from the command line.\n",
      "\u001b[34m\u001b[1mwandb\u001b[0m: No netrc file found, creating one.\n",
      "\u001b[34m\u001b[1mwandb\u001b[0m: Appending key for api.wandb.ai to your netrc file: /root/.netrc\n",
      "\u001b[34m\u001b[1mwandb\u001b[0m: Currently logged in as: \u001b[33mvasireddysindhu70\u001b[0m (\u001b[33mvasireddysindhu70-jsc\u001b[0m) to \u001b[32mhttps://api.wandb.ai\u001b[0m. Use \u001b[1m`wandb login --relogin`\u001b[0m to force relogin\n"
     ]
    },
    {
     "data": {
      "text/html": [
       "Tracking run with wandb version 0.19.9"
      ],
      "text/plain": [
       "<IPython.core.display.HTML object>"
      ]
     },
     "metadata": {},
     "output_type": "display_data"
    },
    {
     "data": {
      "text/html": [
       "Run data is saved locally in <code>/content/wandb/run-20250424_150845-29c177q3</code>"
      ],
      "text/plain": [
       "<IPython.core.display.HTML object>"
      ]
     },
     "metadata": {},
     "output_type": "display_data"
    },
    {
     "data": {
      "text/html": [
       "Syncing run <strong><a href='https://wandb.ai/vasireddysindhu70-jsc/huggingface/runs/29c177q3' target=\"_blank\">./checkpoint/patchtst/TOAR/pretrain/output/</a></strong> to <a href='https://wandb.ai/vasireddysindhu70-jsc/huggingface' target=\"_blank\">Weights & Biases</a> (<a href='https://wandb.me/developer-guide' target=\"_blank\">docs</a>)<br>"
      ],
      "text/plain": [
       "<IPython.core.display.HTML object>"
      ]
     },
     "metadata": {},
     "output_type": "display_data"
    },
    {
     "data": {
      "text/html": [
       " View project at <a href='https://wandb.ai/vasireddysindhu70-jsc/huggingface' target=\"_blank\">https://wandb.ai/vasireddysindhu70-jsc/huggingface</a>"
      ],
      "text/plain": [
       "<IPython.core.display.HTML object>"
      ]
     },
     "metadata": {},
     "output_type": "display_data"
    },
    {
     "data": {
      "text/html": [
       " View run at <a href='https://wandb.ai/vasireddysindhu70-jsc/huggingface/runs/29c177q3' target=\"_blank\">https://wandb.ai/vasireddysindhu70-jsc/huggingface/runs/29c177q3</a>"
      ],
      "text/plain": [
       "<IPython.core.display.HTML object>"
      ]
     },
     "metadata": {},
     "output_type": "display_data"
    },
    {
     "data": {
      "text/html": [
       "\n",
       "    <div>\n",
       "      \n",
       "      <progress value='46092' max='76820' style='width:300px; height:20px; vertical-align: middle;'></progress>\n",
       "      [46092/76820 29:59 < 19:59, 25.61 it/s, Epoch 6/10]\n",
       "    </div>\n",
       "    <table border=\"1\" class=\"dataframe\">\n",
       "  <thead>\n",
       " <tr style=\"text-align: left;\">\n",
       "      <th>Epoch</th>\n",
       "      <th>Training Loss</th>\n",
       "      <th>Validation Loss</th>\n",
       "    </tr>\n",
       "  </thead>\n",
       "  <tbody>\n",
       "    <tr>\n",
       "      <td>1</td>\n",
       "      <td>0.410200</td>\n",
       "      <td>0.237525</td>\n",
       "    </tr>\n",
       "    <tr>\n",
       "      <td>2</td>\n",
       "      <td>0.390300</td>\n",
       "      <td>0.228527</td>\n",
       "    </tr>\n",
       "    <tr>\n",
       "      <td>3</td>\n",
       "      <td>0.381600</td>\n",
       "      <td>0.225255</td>\n",
       "    </tr>\n",
       "    <tr>\n",
       "      <td>4</td>\n",
       "      <td>0.372800</td>\n",
       "      <td>0.224899</td>\n",
       "    </tr>\n",
       "    <tr>\n",
       "      <td>5</td>\n",
       "      <td>0.363600</td>\n",
       "      <td>0.226248</td>\n",
       "    </tr>\n",
       "    <tr>\n",
       "      <td>6</td>\n",
       "      <td>0.354400</td>\n",
       "      <td>0.226626</td>\n",
       "    </tr>\n",
       "  </tbody>\n",
       "</table><p>"
      ],
      "text/plain": [
       "<IPython.core.display.HTML object>"
      ]
     },
     "metadata": {},
     "output_type": "display_data"
    },
    {
     "data": {
      "text/plain": [
       "TrainOutput(global_step=46092, training_loss=0.37881504950357436, metrics={'train_runtime': 1832.8667, 'train_samples_per_second': 2682.105, 'train_steps_per_second': 41.912, 'total_flos': 1.963617913829376e+16, 'train_loss': 0.37881504950357436, 'epoch': 6.0})"
      ]
     },
     "execution_count": 10,
     "metadata": {},
     "output_type": "execute_result"
    }
   ],
   "source": [
    "# pretrain\n",
    "trainer.train()"
   ]
  },
  {
   "cell_type": "markdown",
   "id": "ae9c96b1",
   "metadata": {
    "id": "ae9c96b1"
   },
   "source": [
    "### Evaluate the model on the test set of the source domain\n",
    "\n",
    "Next, we can leverage `trainer.evaluate()` to calculate test metrics. While this is not the target metric to judge in this task, it provides a reasonable check that the pretrained model has trained properly.\n",
    "Note that the training and evaluation loss for `PatchTST` is the Mean Squared Error (MSE) loss. Hence, we do not separately compute the MSE metric in any of the following evaluation experiments.\n",
    "\n",
    "😈 **Task 9:** Visualize forecast vs. actual values to visually inspect quality.\n",
    "\n",
    "😈 **Question 4:** What are the limitations of using only MSE for evaluation?\n"
   ]
  },
  {
   "cell_type": "code",
   "execution_count": 11,
   "id": "2e41672e",
   "metadata": {
    "colab": {
     "base_uri": "https://localhost:8080/",
     "height": 92
    },
    "executionInfo": {
     "elapsed": 52084,
     "status": "ok",
     "timestamp": 1745509176160,
     "user": {
      "displayName": "Harish Marimuthu",
      "userId": "11945811846333685520"
     },
     "user_tz": -120
    },
    "id": "2e41672e",
    "outputId": "e2236883-5dd4-455b-8ae3-f48d1bea5eab"
   },
   "outputs": [
    {
     "data": {
      "text/html": [
       "\n",
       "    <div>\n",
       "      \n",
       "      <progress value='2196' max='2196' style='width:300px; height:20px; vertical-align: middle;'></progress>\n",
       "      [2196/2196 00:51]\n",
       "    </div>\n",
       "    "
      ],
      "text/plain": [
       "<IPython.core.display.HTML object>"
      ]
     },
     "metadata": {},
     "output_type": "display_data"
    },
    {
     "name": "stdout",
     "output_type": "stream",
     "text": [
      "Test result:\n",
      "{'eval_loss': 0.17259475588798523, 'eval_runtime': 52.1056, 'eval_samples_per_second': 2696.123, 'eval_steps_per_second': 42.145, 'epoch': 6.0}\n"
     ]
    }
   ],
   "source": [
    "results = trainer.evaluate(test_dataset)\n",
    "print(\"Test result:\")\n",
    "print(results)"
   ]
  },
  {
   "cell_type": "markdown",
   "id": "d3ad9921",
   "metadata": {
    "id": "d3ad9921"
   },
   "source": [
    "### Save model\n",
    "\n",
    "😈 **Task 10:** Save multiple checkpoints and compare predictions from different training stages.\n"
   ]
  },
  {
   "cell_type": "code",
   "execution_count": 12,
   "id": "e243b56a",
   "metadata": {
    "executionInfo": {
     "elapsed": 10,
     "status": "ok",
     "timestamp": 1745509176223,
     "user": {
      "displayName": "Harish Marimuthu",
      "userId": "11945811846333685520"
     },
     "user_tz": -120
    },
    "id": "e243b56a"
   },
   "outputs": [],
   "source": [
    "save_dir = \"./checkpoint/patchtst/TOAR/model/pretrain/\"\n",
    "os.makedirs(save_dir, exist_ok=True)\n",
    "trainer.save_model(save_dir)"
   ]
  },
  {
   "cell_type": "markdown",
   "id": "ee700d23",
   "metadata": {
    "id": "ee700d23"
   },
   "source": [
    "## Reload Trained Model\n",
    "\n",
    "😈 **Task 11:** Load a saved model and apply it to a completely new station’s dataset.\n"
   ]
  },
  {
   "cell_type": "code",
   "execution_count": 9,
   "id": "3a0276c4",
   "metadata": {
    "executionInfo": {
     "elapsed": 162,
     "status": "ok",
     "timestamp": 1745510205012,
     "user": {
      "displayName": "Harish Marimuthu",
      "userId": "11945811846333685520"
     },
     "user_tz": -120
    },
    "id": "3a0276c4"
   },
   "outputs": [],
   "source": [
    "trained_forecast_model = PatchTSTForPrediction.from_pretrained(\n",
    "    \"./checkpoint/patchtst/TOAR/model/pretrain/\",\n",
    "    num_input_channels=len(observable_columns),\n",
    "    dropout=0.7,\n",
    "    head_dropout=0.7,\n",
    ")\n",
    "## make sure the othervariables are recreated from cells before pretraining\n",
    "re_trainer = Trainer(\n",
    "    model=trained_forecast_model,\n",
    "    args=training_args,\n",
    "    train_dataset=train_dataset,\n",
    "    eval_dataset=valid_dataset,\n",
    "    callbacks=[early_stopping_callback],\n",
    ")"
   ]
  },
  {
   "cell_type": "markdown",
   "id": "60de2b6a",
   "metadata": {
    "id": "60de2b6a"
   },
   "source": [
    "## Predict and Plot\n",
    "\n",
    "😈 **Task 12:** Compare predictions across stations. Which station is easier to forecast and why?\n"
   ]
  },
  {
   "cell_type": "code",
   "execution_count": 10,
   "id": "f99d924f",
   "metadata": {
    "colab": {
     "base_uri": "https://localhost:8080/",
     "height": 34
    },
    "executionInfo": {
     "elapsed": 57793,
     "status": "ok",
     "timestamp": 1745510266701,
     "user": {
      "displayName": "Harish Marimuthu",
      "userId": "11945811846333685520"
     },
     "user_tz": -120
    },
    "id": "f99d924f",
    "outputId": "9344eb8f-c938-415c-c937-5dcf16222d66"
   },
   "outputs": [
    {
     "data": {
      "text/html": [],
      "text/plain": [
       "<IPython.core.display.HTML object>"
      ]
     },
     "metadata": {},
     "output_type": "display_data"
    },
    {
     "name": "stderr",
     "output_type": "stream",
     "text": [
      "\u001b[34m\u001b[1mwandb\u001b[0m: \u001b[33mWARNING\u001b[0m The `run_name` is currently set to the same value as `TrainingArguments.output_dir`. If this was not intended, please specify a different run name by setting the `TrainingArguments.run_name` parameter.\n",
      "\u001b[34m\u001b[1mwandb\u001b[0m: Currently logged in as: \u001b[33msindhuvasireddy94\u001b[0m (\u001b[33msindhu-vasireddy\u001b[0m) to \u001b[32mhttps://api.wandb.ai\u001b[0m. Use \u001b[1m`wandb login --relogin`\u001b[0m to force relogin\n"
     ]
    },
    {
     "data": {
      "text/html": [
       "Waiting for wandb.init()..."
      ],
      "text/plain": [
       "<IPython.core.display.HTML object>"
      ]
     },
     "metadata": {},
     "output_type": "display_data"
    },
    {
     "data": {
      "text/html": [
       "Tracking run with wandb version 0.19.10"
      ],
      "text/plain": [
       "<IPython.core.display.HTML object>"
      ]
     },
     "metadata": {},
     "output_type": "display_data"
    },
    {
     "data": {
      "text/html": [
       "Run data is saved locally in <code>c:\\Users\\s.vasired\\Documents\\JSC\\Koeln\\LabExercises_06_05\\mless\\time_series_forecasting\\wandb\\run-20250424_195900-nrwzks7o</code>"
      ],
      "text/plain": [
       "<IPython.core.display.HTML object>"
      ]
     },
     "metadata": {},
     "output_type": "display_data"
    },
    {
     "data": {
      "text/html": [
       "Syncing run <strong><a href='https://wandb.ai/sindhu-vasireddy/huggingface/runs/nrwzks7o' target=\"_blank\">./checkpoint/patchtst/TOAR/pretrain/output/</a></strong> to <a href='https://wandb.ai/sindhu-vasireddy/huggingface' target=\"_blank\">Weights & Biases</a> (<a href='https://wandb.me/developer-guide' target=\"_blank\">docs</a>)<br>"
      ],
      "text/plain": [
       "<IPython.core.display.HTML object>"
      ]
     },
     "metadata": {},
     "output_type": "display_data"
    },
    {
     "data": {
      "text/html": [
       " View project at <a href='https://wandb.ai/sindhu-vasireddy/huggingface' target=\"_blank\">https://wandb.ai/sindhu-vasireddy/huggingface</a>"
      ],
      "text/plain": [
       "<IPython.core.display.HTML object>"
      ]
     },
     "metadata": {},
     "output_type": "display_data"
    },
    {
     "data": {
      "text/html": [
       " View run at <a href='https://wandb.ai/sindhu-vasireddy/huggingface/runs/nrwzks7o' target=\"_blank\">https://wandb.ai/sindhu-vasireddy/huggingface/runs/nrwzks7o</a>"
      ],
      "text/plain": [
       "<IPython.core.display.HTML object>"
      ]
     },
     "metadata": {},
     "output_type": "display_data"
    },
    {
     "data": {
      "text/plain": [
       "(140483, 96, 5)"
      ]
     },
     "execution_count": 10,
     "metadata": {},
     "output_type": "execute_result"
    }
   ],
   "source": [
    "raw_predictions = re_trainer.predict(test_dataset)\n",
    "patchtst_predictions = raw_predictions.predictions\n",
    "patchtst_predictions = patchtst_predictions[0]  # Extract the actual predictions array\n",
    "patchtst_predictions.shape"
   ]
  },
  {
   "cell_type": "markdown",
   "id": "08ccbea3",
   "metadata": {
    "id": "08ccbea3"
   },
   "source": [
    "### Continuity\n",
    "\n",
    "\n",
    "> Plotting in line with MLP and LSTM\n",
    "\n",
    "😈 **Question 5:** What benefits do attention-based models offer over recurrent models in forecasting scenarios?\n",
    "\n"
   ]
  },
  {
   "cell_type": "code",
   "execution_count": 11,
   "id": "c6ebfc8c",
   "metadata": {
    "executionInfo": {
     "elapsed": 740,
     "status": "ok",
     "timestamp": 1745510267498,
     "user": {
      "displayName": "Harish Marimuthu",
      "userId": "11945811846333685520"
     },
     "user_tz": -120
    },
    "id": "c6ebfc8c"
   },
   "outputs": [],
   "source": [
    "import numpy as np\n",
    "import matplotlib.pyplot as plt\n",
    "from sklearn.metrics import mean_squared_error"
   ]
  },
  {
   "cell_type": "code",
   "execution_count": 12,
   "id": "6ce526e7",
   "metadata": {
    "executionInfo": {
     "elapsed": 7,
     "status": "ok",
     "timestamp": 1745510267512,
     "user": {
      "displayName": "Harish Marimuthu",
      "userId": "11945811846333685520"
     },
     "user_tz": -120
    },
    "id": "6ce526e7"
   },
   "outputs": [],
   "source": [
    "# Function to create time-series data with past 24 hours as input and next 6 hours as output\n",
    "def create_sequences(data, n_past=24, n_future=6):\n",
    "    X, y = [], []\n",
    "    for i in range(n_past, len(data) - n_future):\n",
    "        X.append(data[i - n_past:i])\n",
    "        y.append(data[i:i + n_future])\n",
    "    return np.array(X), np.array(y)\n",
    "\n",
    "# Function to evaluate model performance\n",
    "def evaluate_model(y_true, y_pred):\n",
    "    mse = mean_squared_error(y_true, y_pred)\n",
    "    rmse = np.sqrt(mse)\n",
    "    print(f\"RMSE: {rmse:.4f}\")\n",
    "    return rmse"
   ]
  },
  {
   "cell_type": "code",
   "execution_count": 13,
   "id": "6721b59e",
   "metadata": {
    "id": "6721b59e"
   },
   "outputs": [
    {
     "name": "stdout",
     "output_type": "stream",
     "text": [
      "X_train shape: (561969, 336, 5), y_train shape: (561969, 96, 5)\n",
      "X_test shape: (140493, 336, 5), y_test shape: (140493, 96, 5)\n"
     ]
    }
   ],
   "source": [
    "variable_columns = [\"no2\", \"temp\", \"o3\", \"no\", \"press\"]\n",
    "context_window = 336\n",
    "prediction_horizon = 96\n",
    "X, y = create_sequences(data[variable_columns].values,context_window,prediction_horizon)\n",
    "\n",
    "train_size = int(len(X) * 0.8)\n",
    "X_train, X_test = X[:train_size], X[train_size:]\n",
    "y_train, y_test = y[:train_size], y[train_size:]\n",
    "\n",
    "scaler_stats = {col: {'mean': data[col].mean(), 'std': data[col].std()} for col in variable_columns}\n",
    "\n",
    "print(f\"X_train shape: {X_train.shape}, y_train shape: {y_train.shape}\")\n",
    "print(f\"X_test shape: {X_test.shape}, y_test shape: {y_test.shape}\")"
   ]
  },
  {
   "cell_type": "markdown",
   "id": "gUwePOEieKWw",
   "metadata": {
    "id": "gUwePOEieKWw"
   },
   "source": [
    "## Plot\n",
    "\n",
    "😈 **Task 13:** Add confidence intervals or highlight anomalies in the prediction plots.\n"
   ]
  },
  {
   "cell_type": "code",
   "execution_count": 14,
   "id": "400620ce",
   "metadata": {
    "id": "400620ce"
   },
   "outputs": [
    {
     "name": "stdout",
     "output_type": "stream",
     "text": [
      "act: [1.13547246 1.24404104 1.28023056 1.32280032 1.36537008 1.40793983\n",
      " 1.45050959 1.49307935 1.52832753 1.56357571 1.59882388 1.63407206\n",
      " 1.66932024 1.67088915 1.67245806 1.67402697 1.67559588 1.67716479\n",
      " 1.61012004 1.54307528 1.47603053 1.40898577 1.34194102 1.2848327\n",
      " 1.22772437 1.17061605 1.11350772 1.0563994  1.04886863 1.04133786\n",
      " 1.0338071  1.02627633 1.01874556 1.04447568 1.07020581 1.09593593\n",
      " 1.12166606 1.14739618 1.18923378 1.23107138 1.27290898 1.31474658\n",
      " 1.35658418 1.35731634 1.3580485  1.35878065 1.35951281 1.36024497\n",
      " 1.36798493 1.37572488 1.38346484 1.39120479 1.39894475 1.37175031\n",
      " 1.34455587 1.31736143 1.29016699 1.26297255 1.29633804 1.32970352\n",
      " 1.36306901 1.39643449 1.42979998 1.39486558 1.35993119 1.32499679\n",
      " 1.2900624  1.255128   1.2045045  1.15388101 1.10325751 1.05263402\n",
      " 1.00201052 0.99353841 0.98506629 0.97659418 0.96812206 0.95964995\n",
      " 0.93057282 0.90149569 0.87241855 0.84334142 0.81426429 0.81436888\n",
      " 0.81447348 0.81457807 0.81468267 0.81478726 0.98778574 1.16078421\n",
      " 1.33378269 1.50678116 1.67977964 1.44640428 1.21302892 0.97965355] \n",
      " pred [0.89272065 0.90770228 0.96595802 0.98720657 1.04007096 1.04691097\n",
      " 1.09783472 1.02567986 1.0439568  1.11427865 1.11561664 1.10093217\n",
      " 1.14851133 1.08310855 1.09152914 1.07407167 1.1194676  1.04733625\n",
      " 1.06039922 1.02940272 1.08598389 1.04527886 1.02770844 1.07413231\n",
      " 1.04958467 1.0298098  0.99652394 0.99913851 0.96977867 0.96050602\n",
      " 0.99355612 0.95123641 0.96050905 0.99554301 0.98332907 1.03415199\n",
      " 1.03340454 1.07676583 1.09817888 1.14616133 1.16726433 1.16427907\n",
      " 1.17422109 1.22655559 1.27292981 1.33086034 1.32047675 1.34056167\n",
      " 1.33526583 1.44486453 1.38921766 1.39931015 1.36819047 1.28277403\n",
      " 1.40762385 1.30544433 1.30083151 1.26099635 1.22797355 1.21049599\n",
      " 1.17231077 1.12574514 1.06140593 1.09639288 0.98964147 0.95595157\n",
      " 0.94665467 0.8864507  0.81883589 0.82038917 0.74072341 0.72462363\n",
      " 0.68460616 0.7169361  0.6452467  0.61716268 0.55360352 0.53963011\n",
      " 0.47018155 0.43364208 0.44261984 0.408325   0.43039605 0.37401197\n",
      " 0.29230322 0.35664547 0.31961098 0.27437803 0.32469305 0.2919856\n",
      " 0.26545334 0.29156108 0.29237524 0.2298243  0.26876684 0.29102058]\n",
      "act: [9.379  9.5834 9.6286 9.6738 9.719  9.7088 9.6986 9.6884 9.6782 9.668\n",
      " 9.6818 9.6956 9.7094 9.7232 9.737  9.7618 9.7866 9.8114 9.8362 9.861\n",
      " 9.6982 9.5354 9.3726 9.2098 9.047  8.9386 8.8302 8.7218 8.6134 8.505\n",
      " 8.5366 8.5682 8.5998 8.6314 8.663  8.7452 8.8274 8.9096 8.9918 9.074\n",
      " 9.1022 9.1304 9.1586 9.1868 9.215  9.1616 9.1082 9.0548 9.0014 8.948\n",
      " 8.9404 8.9328 8.9252 8.9176 8.91   8.866  8.822  8.778  8.734  8.69\n",
      " 8.659  8.628  8.597  8.566  8.535  8.5216 8.5082 8.4948 8.4814 8.468\n",
      " 8.4354 8.4028 8.3702 8.3376 8.305  8.1936 8.0822 7.9708 7.8594 7.748\n",
      " 7.7578 7.7676 7.7774 7.7872 7.797  7.8364 7.8758 7.9152 7.9546 7.994\n",
      " 7.9662 7.9384 7.9106 7.8828 7.855  7.8545] \n",
      " pred [9.64242505 9.67920292 9.66330877 9.68769211 9.69364739 9.69736506\n",
      " 9.69408148 9.67633802 9.63546625 9.62976138 9.60362207 9.54865667\n",
      " 9.56968161 9.52362176 9.50637202 9.53612048 9.4885758  9.49567615\n",
      " 9.47876506 9.51332406 9.51038588 9.52761633 9.51974967 9.58339381\n",
      " 9.59717938 9.65416745 9.65962058 9.6936352  9.71349655 9.71213332\n",
      " 9.70810394 9.76622012 9.8331382  9.84161475 9.85694995 9.84082639\n",
      " 9.86543841 9.88650436 9.88000387 9.89186688 9.8702009  9.86102943\n",
      " 9.81135449 9.81866103 9.79119091 9.76465226 9.77619674 9.71436428\n",
      " 9.68938645 9.65332023 9.62551407 9.59197633 9.5263706  9.50498829\n",
      " 9.42628203 9.39864581 9.38178848 9.34312805 9.36318649 9.30917484\n",
      " 9.26958738 9.2870515  9.2356773  9.22445145 9.20966402 9.20745579\n",
      " 9.17556361 9.18293222 9.17273572 9.16758887 9.16203032 9.16592435\n",
      " 9.17815704 9.15347662 9.15299376 9.13852479 9.18876866 9.19537485\n",
      " 9.1980256  9.20192085 9.22678694 9.23665554 9.26323515 9.26904533\n",
      " 9.28943343 9.29243934 9.28595353 9.26904122 9.26947575 9.30501699\n",
      " 9.29057662 9.27586667 9.26484335 9.29087758 9.25648929 9.24355149]\n",
      "act: [30.39569484 30.25334268 29.82388025 29.39441782 28.96495538 28.53549295\n",
      " 28.10603052 28.006785   27.90753948 27.80829396 27.70904844 27.60980292\n",
      " 27.62413838 27.63847385 27.65280931 27.66714478 27.68148024 29.12244499\n",
      " 30.56340974 32.0043745  33.44533925 34.886304   36.13719854 37.38809309\n",
      " 38.63898763 39.88988218 41.14077672 41.02017838 40.89958003 40.77898169\n",
      " 40.65838334 40.537785   40.15132896 39.76487292 39.37841688 38.99196084\n",
      " 38.6055048  38.19729494 37.78908509 37.38087523 36.97266538 36.56445552\n",
      " 36.45799214 36.35152877 36.24506539 36.13860202 36.03213864 35.90432244\n",
      " 35.77650624 35.64869004 35.52087384 35.39305764 35.25501614 35.11697465\n",
      " 34.97893315 34.84089166 34.70285016 34.73001737 34.75718458 34.78435178\n",
      " 34.81151899 34.8386862  34.80239642 34.76610665 34.72981687 34.6935271\n",
      " 34.65723732 34.68149734 34.70575735 34.73001737 34.75427738 34.7785374\n",
      " 34.51839384 34.25825028 33.99810672 33.73796316 33.4778196  33.44604098\n",
      " 33.41426237 33.38248375 33.35070514 33.31892652 33.40904947 33.49917242\n",
      " 33.58929538 33.67941833 33.76954128 33.67621039 33.5828795  33.48954862\n",
      " 33.39621773 33.30288684 33.76377702 34.2246672  34.68555738 35.14644756] \n",
      " pred [31.46894568 31.43124616 31.33913447 31.29453406 31.16744688 31.11058743\n",
      " 31.12637593 31.11760575 31.13825517 31.14002754 31.15899494 31.20187712\n",
      " 31.12315903 31.20498793 31.23941599 31.22636637 31.26825453 31.3055939\n",
      " 31.3761246  31.44433245 31.5701244  31.65514269 31.69250738 31.85508429\n",
      " 31.95637651 32.06922842 32.13504532 32.20981486 32.42312082 32.42130305\n",
      " 32.62614705 32.71500998 32.6993232  32.7411616  32.89340376 32.85907306\n",
      " 32.95336835 32.9544274  32.898321   32.86155699 32.94667176 32.89398961\n",
      " 32.91725217 32.86259859 32.76541949 32.74805027 32.75863297 32.73251191\n",
      " 32.6375199  32.46623567 32.50345543 32.50186466 32.50681857 32.42031472\n",
      " 32.43881022 32.38969551 32.41545773 32.40227933 32.46962238 32.3912435\n",
      " 32.4722757  32.38311679 32.51084176 32.54005879 32.57626838 32.54718668\n",
      " 32.53468318 32.60585036 32.6776741  32.67030175 32.85788391 32.80208483\n",
      " 32.90061984 32.93949672 32.93517668 32.90957074 33.0769313  33.14517626\n",
      " 33.05282708 33.14863369 33.24607471 33.2928513  33.39646069 33.38239524\n",
      " 33.44069746 33.44756692 33.64373591 33.61503488 33.6913524  33.68532722\n",
      " 33.70604037 33.865606   33.71376895 33.79035364 33.83809324 33.80575404]\n",
      "act: [-0.11866936 -0.01475349  0.01988514  0.05452376  0.02485642 -0.00481092\n",
      " -0.03447826 -0.0641456  -0.09381294 -0.0962184  -0.09862386 -0.10102932\n",
      " -0.10343478 -0.10584024 -0.08274782 -0.05965541 -0.03656299 -0.01347058\n",
      "  0.00962184  0.01892295  0.02822406  0.03752518  0.04682629  0.0561274\n",
      "  0.02533751 -0.00545238 -0.03624226 -0.06703215 -0.09782204 -0.08916238\n",
      " -0.08050273 -0.07184307 -0.06318342 -0.05452376 -0.05163721 -0.04875066\n",
      " -0.0458641  -0.04297755 -0.040091   -0.03159171 -0.02309242 -0.01459312\n",
      " -0.00609383  0.00240546  0.00481092  0.00721638  0.00962184  0.0120273\n",
      "  0.01443276  0.01796077  0.02148878  0.02501678  0.02854479  0.0320728\n",
      "  0.02565824  0.01924368  0.01282912  0.00641456  0.          0.00272619\n",
      "  0.00545238  0.00817856  0.01090475  0.01363094  0.01876259  0.02389424\n",
      "  0.02902588  0.03415753  0.03928918  0.01731931 -0.00465056 -0.02662042\n",
      " -0.04859029 -0.07056016 -0.06927725 -0.06799434 -0.06671142 -0.06542851\n",
      " -0.0641456  -0.06687179 -0.06959798 -0.07232416 -0.07505035 -0.07777654\n",
      " -0.05516522 -0.03255389 -0.00994257  0.01266876  0.03528008  0.05420303\n",
      "  0.07312598  0.09204894  0.11097189  0.12989484  0.08920248  0.04851011] \n",
      " pred [-0.42995985 -0.42557731 -0.45937317 -0.47008635 -0.48348418 -0.49336549\n",
      " -0.51166266 -0.49991958 -0.5681131  -0.54553134 -0.60921788 -0.59743111\n",
      " -0.48282493 -0.59396489 -0.60277393 -0.63414566 -0.60819856 -0.65858126\n",
      " -0.59640437 -0.64089674 -0.62009547 -0.63847446 -0.5150574  -0.54583978\n",
      " -0.52959845 -0.58482543 -0.58515824 -0.50975958 -0.57156846 -0.6247441\n",
      " -0.46166068 -0.47330343 -0.45988124 -0.43255448 -0.39191594 -0.36676205\n",
      " -0.36933497 -0.36048437 -0.30812551 -0.2773283  -0.1816399  -0.22251672\n",
      " -0.18210587 -0.14358116 -0.13810411 -0.16019924 -0.14853611 -0.11708918\n",
      " -0.08758055 -0.11473945 -0.12927071 -0.19038089 -0.20188596 -0.28445241\n",
      " -0.18820034 -0.26957644 -0.22260806 -0.25106507 -0.31566715 -0.37170986\n",
      " -0.45007195 -0.40239057 -0.38453581 -0.50403604 -0.48631868 -0.49694131\n",
      " -0.58049425 -0.57822845 -0.61294329 -0.54665365 -0.61141881 -0.62232156\n",
      " -0.66905589 -0.56262757 -0.68727312 -0.69116851 -0.65768267 -0.59803025\n",
      " -0.57131244 -0.63494947 -0.59393894 -0.63804476 -0.6598116  -0.72640386\n",
      " -0.66877207 -0.58161577 -0.60278266 -0.70855121 -0.57975531 -0.60951097\n",
      " -0.66202577 -0.61653024 -0.58217309 -0.57166192 -0.59527597 -0.55835279]\n",
      "act: [977.7695 976.9814 976.7638 976.5462 976.3286 976.111  976.0282 975.9454\n",
      " 975.8626 975.7798 975.697  975.557  975.417  975.277  975.137  974.997\n",
      " 974.929  974.861  974.793  974.725  974.657  974.7256 974.7942 974.8628\n",
      " 974.9314 975.     975.     975.     975.     975.     975.     975.0038\n",
      " 975.0076 975.0114 975.0152 975.019  975.0728 975.1266 975.1804 975.2342\n",
      " 975.288  975.2692 975.2504 975.2316 975.2128 975.194  975.1886 975.1832\n",
      " 975.1778 975.1724 975.167  975.2044 975.2418 975.2792 975.3166 975.354\n",
      " 975.2846 975.2152 975.1458 975.0764 975.007  975.1332 975.2594 975.3856\n",
      " 975.5118 975.638  975.7104 975.7828 975.8552 975.9276 976.     976.1184\n",
      " 976.2368 976.3552 976.4736 976.592  976.6736 976.7552 976.8368 976.9184\n",
      " 977.     977.0092 977.0184 977.0276 977.0368 977.046  977.2156 977.3852\n",
      " 977.5548 977.7244 977.894  977.894  977.894  977.894  977.894  977.894 ] \n",
      " pred [977.25527915 977.25640172 977.46412779 977.61255083 977.5095952\n",
      " 977.85452683 977.75439867 977.81229499 978.14082079 978.07129891\n",
      " 977.7360798  978.38899079 977.81341404 978.0233981  977.94130466\n",
      " 978.16192269 978.210704   977.78437468 977.81512245 978.02805441\n",
      " 978.20366108 978.20477312 978.01308804 977.39649789 977.75674904\n",
      " 978.16893521 977.7781994  977.49644598 977.74240125 977.69578321\n",
      " 978.00675724 977.69266926 977.93693367 977.34766162 977.10494191\n",
      " 977.12695706 977.17390017 976.70350547 976.97275865 976.67443921\n",
      " 976.21418736 976.55645524 976.05092891 976.09165465 975.97670044\n",
      " 976.03630399 975.85829667 975.59168152 975.62544853 975.22447749\n",
      " 975.2715235  975.30913646 975.40352668 975.07485003 974.87184926\n",
      " 974.85696708 974.51304809 974.87858231 974.56567771 974.63335554\n",
      " 974.44278836 974.19466162 974.9912645  974.10436994 974.84385762\n",
      " 974.65659265 973.96105107 974.30740111 974.48621176 974.74343829\n",
      " 974.69872277 974.64999407 974.66830124 974.98756471 975.06030813\n",
      " 974.98279615 974.94657821 975.28343205 975.30962642 975.43848992\n",
      " 975.44664138 975.56398807 975.37775796 974.99350028 975.83280976\n",
      " 975.56190664 975.45850199 975.47128754 975.76814414 976.08480467\n",
      " 975.11717426 975.52705332 975.63944551 975.25066717 975.46028055\n",
      " 975.77436152]\n"
     ]
    },
    {
     "data": {
      "image/png": "[encoded data removed]",
      "text/plain": [
       "<Figure size 1200x1000 with 5 Axes>"
      ]
     },
     "metadata": {},
     "output_type": "display_data"
    }
   ],
   "source": [
    "plt.figure(figsize=(12, 10))\n",
    "num_variables = len(variable_columns)\n",
    "scaler_stats = {col: {'mean': data[col].mean(), 'std': data[col].std()} for col in variable_columns}\n",
    "\n",
    "for variable_idx in range(num_variables):\n",
    "    # Last sample\n",
    "    sample_idx = -1\n",
    "    X_test_sample = X_test[sample_idx, :, variable_idx]\n",
    "    y_test_sample = y_test[sample_idx, :, variable_idx]\n",
    "\n",
    "    # Inverse scale\n",
    "    context = X_test_sample\n",
    "    actual_future = y_test_sample\n",
    "    predicted_future = patchtst_predictions[-1, :, variable_idx] * scaler_stats[variable_columns[variable_idx]]['std'] + scaler_stats[variable_columns[variable_idx]]['mean']\n",
    "    print(f\"act: {actual_future} \\n pred {predicted_future}\")\n",
    "    # Plot\n",
    "    plt.subplot(num_variables, 1, variable_idx + 1)\n",
    "\n",
    "    plt.plot(range(context_window), context, label=\"Context\", color=\"blue\", marker=\"o\")\n",
    "    plt.plot(range(context_window, context_window + prediction_horizon), actual_future, label=\"Actual Future\", color=\"green\", marker=\"o\")\n",
    "    plt.plot(range(context_window, context_window + prediction_horizon), predicted_future, label=\"MLP Prediction\", linestyle=\"--\", color=\"orange\", marker=\"x\")\n",
    "\n",
    "    plt.title(f\"MLP Forecast for {variable_columns[variable_idx]}\")\n",
    "    plt.xlabel(\"Time Step\")\n",
    "    plt.ylabel(variable_columns[variable_idx])\n",
    "    plt.legend()\n",
    "\n",
    "plt.tight_layout()\n",
    "plt.show()\n"
   ]
  },
  {
   "cell_type": "code",
   "execution_count": null,
   "id": "49353ef3",
   "metadata": {
    "id": "49353ef3"
   },
   "outputs": [],
   "source": []
  }
 ],
 "metadata": {
  "accelerator": "GPU",
  "colab": {
   "gpuType": "T4",
   "provenance": []
  },
  "kernelspec": {
   "display_name": "myenv_labex",
   "language": "python",
   "name": "python3"
  },
  "language_info": {
   "codemirror_mode": {
    "name": "ipython",
    "version": 3
   },
   "file_extension": ".py",
   "mimetype": "text/x-python",
   "name": "python",
   "nbconvert_exporter": "python",
   "pygments_lexer": "ipython3",
   "version": "3.12.0"
  }
 },
 "nbformat": 4,
 "nbformat_minor": 5
}
